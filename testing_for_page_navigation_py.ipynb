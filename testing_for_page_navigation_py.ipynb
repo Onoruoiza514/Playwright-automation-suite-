{
  "cells": [
    {
      "cell_type": "markdown",
      "metadata": {
        "id": "view-in-github",
        "colab_type": "text"
      },
      "source": [
        "<a href=\"https://colab.research.google.com/github/Onoruoiza514/Playwright-automation-suite-/blob/main/testing_for_page_navigation_py.ipynb\" target=\"_parent\"><img src=\"https://colab.research.google.com/assets/colab-badge.svg\" alt=\"Open In Colab\"/></a>"
      ]
    },
    {
      "cell_type": "code",
      "execution_count": null,
      "metadata": {
        "colab": {
          "base_uri": "https://localhost:8080/"
        },
        "id": "pQG0aaw5FH16",
        "outputId": "1695c6a9-cbe9-4242-8595-2c9afab73b37"
      },
      "outputs": [
        {
          "output_type": "stream",
          "name": "stdout",
          "text": [
            "Collecting playwright\n",
            "  Downloading playwright-1.49.1-py3-none-manylinux1_x86_64.whl.metadata (3.5 kB)\n",
            "Requirement already satisfied: greenlet==3.1.1 in /usr/local/lib/python3.10/dist-packages (from playwright) (3.1.1)\n",
            "Collecting pyee==12.0.0 (from playwright)\n",
            "  Downloading pyee-12.0.0-py3-none-any.whl.metadata (2.8 kB)\n",
            "Requirement already satisfied: typing-extensions in /usr/local/lib/python3.10/dist-packages (from pyee==12.0.0->playwright) (4.12.2)\n",
            "Downloading playwright-1.49.1-py3-none-manylinux1_x86_64.whl (44.2 MB)\n",
            "\u001b[2K   \u001b[90m━━━━━━━━━━━━━━━━━━━━━━━━━━━━━━━━━━━━━━━━\u001b[0m \u001b[32m44.2/44.2 MB\u001b[0m \u001b[31m17.3 MB/s\u001b[0m eta \u001b[36m0:00:00\u001b[0m\n",
            "\u001b[?25hDownloading pyee-12.0.0-py3-none-any.whl (14 kB)\n",
            "Installing collected packages: pyee, playwright\n",
            "Successfully installed playwright-1.49.1 pyee-12.0.0\n",
            "Downloading Chromium 131.0.6778.33 (playwright build v1148)\u001b[2m from https://playwright.azureedge.net/builds/chromium/1148/chromium-linux.zip\u001b[22m\n",
            "\u001b[1G161.3 MiB [] 0% 10.7s\u001b[0K\u001b[1G161.3 MiB [] 0% 11.0s\u001b[0K\u001b[1G161.3 MiB [] 0% 3.7s\u001b[0K\u001b[1G161.3 MiB [] 1% 3.0s\u001b[0K\u001b[1G161.3 MiB [] 2% 2.6s\u001b[0K\u001b[1G161.3 MiB [] 3% 2.4s\u001b[0K\u001b[1G161.3 MiB [] 4% 2.2s\u001b[0K\u001b[1G161.3 MiB [] 5% 2.0s\u001b[0K\u001b[1G161.3 MiB [] 6% 2.0s\u001b[0K\u001b[1G161.3 MiB [] 6% 2.1s\u001b[0K\u001b[1G161.3 MiB [] 7% 2.1s\u001b[0K\u001b[1G161.3 MiB [] 8% 2.0s\u001b[0K\u001b[1G161.3 MiB [] 9% 1.9s\u001b[0K\u001b[1G161.3 MiB [] 10% 1.9s\u001b[0K\u001b[1G161.3 MiB [] 11% 1.8s\u001b[0K\u001b[1G161.3 MiB [] 12% 1.8s\u001b[0K\u001b[1G161.3 MiB [] 14% 1.7s\u001b[0K\u001b[1G161.3 MiB [] 15% 1.7s\u001b[0K\u001b[1G161.3 MiB [] 17% 1.6s\u001b[0K\u001b[1G161.3 MiB [] 18% 1.6s\u001b[0K\u001b[1G161.3 MiB [] 19% 1.5s\u001b[0K\u001b[1G161.3 MiB [] 20% 1.4s\u001b[0K\u001b[1G161.3 MiB [] 21% 1.4s\u001b[0K\u001b[1G161.3 MiB [] 23% 1.4s\u001b[0K\u001b[1G161.3 MiB [] 24% 1.3s\u001b[0K\u001b[1G161.3 MiB [] 26% 1.3s\u001b[0K\u001b[1G161.3 MiB [] 28% 1.2s\u001b[0K\u001b[1G161.3 MiB [] 29% 1.2s\u001b[0K\u001b[1G161.3 MiB [] 29% 1.3s\u001b[0K\u001b[1G161.3 MiB [] 30% 1.2s\u001b[0K\u001b[1G161.3 MiB [] 32% 1.2s\u001b[0K\u001b[1G161.3 MiB [] 34% 1.1s\u001b[0K\u001b[1G161.3 MiB [] 35% 1.1s\u001b[0K\u001b[1G161.3 MiB [] 37% 1.0s\u001b[0K\u001b[1G161.3 MiB [] 38% 1.0s\u001b[0K\u001b[1G161.3 MiB [] 39% 1.0s\u001b[0K\u001b[1G161.3 MiB [] 40% 1.0s\u001b[0K\u001b[1G161.3 MiB [] 41% 1.0s\u001b[0K\u001b[1G161.3 MiB [] 42% 1.0s\u001b[0K\u001b[1G161.3 MiB [] 43% 1.0s\u001b[0K\u001b[1G161.3 MiB [] 44% 1.0s\u001b[0K\u001b[1G161.3 MiB [] 45% 0.9s\u001b[0K\u001b[1G161.3 MiB [] 46% 0.9s\u001b[0K\u001b[1G161.3 MiB [] 47% 0.9s\u001b[0K\u001b[1G161.3 MiB [] 48% 0.9s\u001b[0K\u001b[1G161.3 MiB [] 49% 0.9s\u001b[0K\u001b[1G161.3 MiB [] 50% 0.9s\u001b[0K\u001b[1G161.3 MiB [] 51% 0.9s\u001b[0K\u001b[1G161.3 MiB [] 52% 0.8s\u001b[0K\u001b[1G161.3 MiB [] 53% 0.8s\u001b[0K\u001b[1G161.3 MiB [] 54% 0.8s\u001b[0K\u001b[1G161.3 MiB [] 55% 0.8s\u001b[0K\u001b[1G161.3 MiB [] 56% 0.8s\u001b[0K\u001b[1G161.3 MiB [] 57% 0.8s\u001b[0K\u001b[1G161.3 MiB [] 58% 0.8s\u001b[0K\u001b[1G161.3 MiB [] 59% 0.8s\u001b[0K\u001b[1G161.3 MiB [] 60% 0.7s\u001b[0K\u001b[1G161.3 MiB [] 61% 0.7s\u001b[0K\u001b[1G161.3 MiB [] 62% 0.7s\u001b[0K\u001b[1G161.3 MiB [] 63% 0.7s\u001b[0K\u001b[1G161.3 MiB [] 64% 0.7s\u001b[0K\u001b[1G161.3 MiB [] 65% 0.6s\u001b[0K\u001b[1G161.3 MiB [] 66% 0.6s\u001b[0K\u001b[1G161.3 MiB [] 67% 0.6s\u001b[0K\u001b[1G161.3 MiB [] 68% 0.6s\u001b[0K\u001b[1G161.3 MiB [] 69% 0.6s\u001b[0K\u001b[1G161.3 MiB [] 70% 0.5s\u001b[0K\u001b[1G161.3 MiB [] 71% 0.5s\u001b[0K\u001b[1G161.3 MiB [] 72% 0.5s\u001b[0K\u001b[1G161.3 MiB [] 73% 0.5s\u001b[0K\u001b[1G161.3 MiB [] 74% 0.5s\u001b[0K\u001b[1G161.3 MiB [] 75% 0.5s\u001b[0K\u001b[1G161.3 MiB [] 76% 0.4s\u001b[0K\u001b[1G161.3 MiB [] 77% 0.4s\u001b[0K\u001b[1G161.3 MiB [] 78% 0.4s\u001b[0K\u001b[1G161.3 MiB [] 79% 0.4s\u001b[0K\u001b[1G161.3 MiB [] 80% 0.4s\u001b[0K\u001b[1G161.3 MiB [] 81% 0.3s\u001b[0K\u001b[1G161.3 MiB [] 82% 0.3s\u001b[0K\u001b[1G161.3 MiB [] 83% 0.3s\u001b[0K\u001b[1G161.3 MiB [] 84% 0.3s\u001b[0K\u001b[1G161.3 MiB [] 85% 0.3s\u001b[0K\u001b[1G161.3 MiB [] 86% 0.3s\u001b[0K\u001b[1G161.3 MiB [] 87% 0.2s\u001b[0K\u001b[1G161.3 MiB [] 88% 0.2s\u001b[0K\u001b[1G161.3 MiB [] 89% 0.2s\u001b[0K\u001b[1G161.3 MiB [] 90% 0.2s\u001b[0K\u001b[1G161.3 MiB [] 91% 0.2s\u001b[0K\u001b[1G161.3 MiB [] 92% 0.2s\u001b[0K\u001b[1G161.3 MiB [] 92% 0.1s\u001b[0K\u001b[1G161.3 MiB [] 93% 0.1s\u001b[0K\u001b[1G161.3 MiB [] 94% 0.1s\u001b[0K\u001b[1G161.3 MiB [] 95% 0.1s\u001b[0K\u001b[1G161.3 MiB [] 96% 0.1s\u001b[0K\u001b[1G161.3 MiB [] 97% 0.1s\u001b[0K\u001b[1G161.3 MiB [] 97% 0.0s\u001b[0K\u001b[1G161.3 MiB [] 98% 0.0s\u001b[0K\u001b[1G161.3 MiB [] 99% 0.0s\u001b[0K\u001b[1G161.3 MiB [] 100% 0.0s\u001b[0K\n",
            "Chromium 131.0.6778.33 (playwright build v1148) downloaded to /root/.cache/ms-playwright/chromium-1148\n",
            "Downloading Chromium Headless Shell 131.0.6778.33 (playwright build v1148)\u001b[2m from https://playwright.azureedge.net/builds/chromium/1148/chromium-headless-shell-linux.zip\u001b[22m\n",
            "\u001b[1G100.9 MiB [] 0% 0.0s\u001b[0K\u001b[1G100.9 MiB [] 0% 45.7s\u001b[0K\u001b[1G100.9 MiB [] 0% 7.4s\u001b[0K\u001b[1G100.9 MiB [] 1% 3.1s\u001b[0K\u001b[1G100.9 MiB [] 2% 2.3s\u001b[0K\u001b[1G100.9 MiB [] 4% 1.9s\u001b[0K\u001b[1G100.9 MiB [] 5% 1.7s\u001b[0K\u001b[1G100.9 MiB [] 6% 1.6s\u001b[0K\u001b[1G100.9 MiB [] 7% 1.6s\u001b[0K\u001b[1G100.9 MiB [] 8% 1.6s\u001b[0K\u001b[1G100.9 MiB [] 9% 1.5s\u001b[0K\u001b[1G100.9 MiB [] 10% 1.6s\u001b[0K\u001b[1G100.9 MiB [] 11% 1.6s\u001b[0K\u001b[1G100.9 MiB [] 12% 1.6s\u001b[0K\u001b[1G100.9 MiB [] 13% 1.6s\u001b[0K\u001b[1G100.9 MiB [] 14% 1.5s\u001b[0K\u001b[1G100.9 MiB [] 15% 1.5s\u001b[0K\u001b[1G100.9 MiB [] 16% 1.4s\u001b[0K\u001b[1G100.9 MiB [] 17% 1.4s\u001b[0K\u001b[1G100.9 MiB [] 19% 1.4s\u001b[0K\u001b[1G100.9 MiB [] 19% 1.3s\u001b[0K\u001b[1G100.9 MiB [] 20% 1.4s\u001b[0K\u001b[1G100.9 MiB [] 20% 1.7s\u001b[0K\u001b[1G100.9 MiB [] 20% 1.8s\u001b[0K\u001b[1G100.9 MiB [] 20% 1.9s\u001b[0K\u001b[1G100.9 MiB [] 20% 2.0s\u001b[0K\u001b[1G100.9 MiB [] 21% 2.0s\u001b[0K\u001b[1G100.9 MiB [] 22% 1.9s\u001b[0K\u001b[1G100.9 MiB [] 22% 2.0s\u001b[0K\u001b[1G100.9 MiB [] 25% 1.8s\u001b[0K\u001b[1G100.9 MiB [] 27% 1.7s\u001b[0K\u001b[1G100.9 MiB [] 28% 1.6s\u001b[0K\u001b[1G100.9 MiB [] 30% 1.5s\u001b[0K\u001b[1G100.9 MiB [] 31% 1.5s\u001b[0K\u001b[1G100.9 MiB [] 32% 1.5s\u001b[0K\u001b[1G100.9 MiB [] 33% 1.5s\u001b[0K\u001b[1G100.9 MiB [] 34% 1.5s\u001b[0K\u001b[1G100.9 MiB [] 36% 1.5s\u001b[0K\u001b[1G100.9 MiB [] 37% 1.4s\u001b[0K\u001b[1G100.9 MiB [] 38% 1.4s\u001b[0K\u001b[1G100.9 MiB [] 39% 1.3s\u001b[0K\u001b[1G100.9 MiB [] 41% 1.3s\u001b[0K\u001b[1G100.9 MiB [] 42% 1.2s\u001b[0K\u001b[1G100.9 MiB [] 44% 1.2s\u001b[0K\u001b[1G100.9 MiB [] 45% 1.1s\u001b[0K\u001b[1G100.9 MiB [] 46% 1.1s\u001b[0K\u001b[1G100.9 MiB [] 47% 1.1s\u001b[0K\u001b[1G100.9 MiB [] 48% 1.1s\u001b[0K\u001b[1G100.9 MiB [] 49% 1.1s\u001b[0K\u001b[1G100.9 MiB [] 50% 1.0s\u001b[0K\u001b[1G100.9 MiB [] 51% 1.0s\u001b[0K\u001b[1G100.9 MiB [] 52% 1.0s\u001b[0K\u001b[1G100.9 MiB [] 53% 1.0s\u001b[0K\u001b[1G100.9 MiB [] 55% 1.0s\u001b[0K\u001b[1G100.9 MiB [] 57% 0.9s\u001b[0K\u001b[1G100.9 MiB [] 58% 0.9s\u001b[0K\u001b[1G100.9 MiB [] 60% 0.8s\u001b[0K\u001b[1G100.9 MiB [] 61% 0.8s\u001b[0K\u001b[1G100.9 MiB [] 62% 0.8s\u001b[0K\u001b[1G100.9 MiB [] 63% 0.8s\u001b[0K\u001b[1G100.9 MiB [] 64% 0.7s\u001b[0K\u001b[1G100.9 MiB [] 66% 0.7s\u001b[0K\u001b[1G100.9 MiB [] 67% 0.7s\u001b[0K\u001b[1G100.9 MiB [] 68% 0.7s\u001b[0K\u001b[1G100.9 MiB [] 69% 0.7s\u001b[0K\u001b[1G100.9 MiB [] 70% 0.6s\u001b[0K\u001b[1G100.9 MiB [] 71% 0.6s\u001b[0K\u001b[1G100.9 MiB [] 72% 0.6s\u001b[0K\u001b[1G100.9 MiB [] 73% 0.6s\u001b[0K\u001b[1G100.9 MiB [] 74% 0.5s\u001b[0K\u001b[1G100.9 MiB [] 75% 0.5s\u001b[0K\u001b[1G100.9 MiB [] 76% 0.5s\u001b[0K\u001b[1G100.9 MiB [] 77% 0.5s\u001b[0K\u001b[1G100.9 MiB [] 78% 0.5s\u001b[0K\u001b[1G100.9 MiB [] 79% 0.4s\u001b[0K\u001b[1G100.9 MiB [] 80% 0.4s\u001b[0K\u001b[1G100.9 MiB [] 82% 0.4s\u001b[0K\u001b[1G100.9 MiB [] 83% 0.4s\u001b[0K\u001b[1G100.9 MiB [] 84% 0.3s\u001b[0K\u001b[1G100.9 MiB [] 86% 0.3s\u001b[0K\u001b[1G100.9 MiB [] 87% 0.3s\u001b[0K\u001b[1G100.9 MiB [] 89% 0.2s\u001b[0K\u001b[1G100.9 MiB [] 90% 0.2s\u001b[0K\u001b[1G100.9 MiB [] 91% 0.2s\u001b[0K\u001b[1G100.9 MiB [] 92% 0.2s\u001b[0K\u001b[1G100.9 MiB [] 94% 0.1s\u001b[0K\u001b[1G100.9 MiB [] 95% 0.1s\u001b[0K\u001b[1G100.9 MiB [] 96% 0.1s\u001b[0K\u001b[1G100.9 MiB [] 97% 0.1s\u001b[0K\u001b[1G100.9 MiB [] 98% 0.0s\u001b[0K\u001b[1G100.9 MiB [] 100% 0.0s\u001b[0K\n",
            "Chromium Headless Shell 131.0.6778.33 (playwright build v1148) downloaded to /root/.cache/ms-playwright/chromium_headless_shell-1148\n",
            "Downloading Firefox 132.0 (playwright build v1466)\u001b[2m from https://playwright.azureedge.net/builds/firefox/1466/firefox-ubuntu-22.04.zip\u001b[22m\n",
            "\u001b[1G87.6 MiB [] 0% 0.0s\u001b[0K\u001b[1G87.6 MiB [] 0% 15.9s\u001b[0K\u001b[1G87.6 MiB [] 0% 11.5s\u001b[0K\u001b[1G87.6 MiB [] 0% 6.3s\u001b[0K\u001b[1G87.6 MiB [] 1% 4.0s\u001b[0K\u001b[1G87.6 MiB [] 2% 3.0s\u001b[0K\u001b[1G87.6 MiB [] 3% 2.5s\u001b[0K\u001b[1G87.6 MiB [] 4% 2.2s\u001b[0K\u001b[1G87.6 MiB [] 5% 2.1s\u001b[0K\u001b[1G87.6 MiB [] 6% 2.0s\u001b[0K\u001b[1G87.6 MiB [] 7% 1.9s\u001b[0K\u001b[1G87.6 MiB [] 9% 1.8s\u001b[0K\u001b[1G87.6 MiB [] 10% 1.7s\u001b[0K\u001b[1G87.6 MiB [] 11% 1.7s\u001b[0K\u001b[1G87.6 MiB [] 12% 1.6s\u001b[0K\u001b[1G87.6 MiB [] 13% 1.7s\u001b[0K\u001b[1G87.6 MiB [] 14% 1.7s\u001b[0K\u001b[1G87.6 MiB [] 15% 1.7s\u001b[0K\u001b[1G87.6 MiB [] 16% 1.6s\u001b[0K\u001b[1G87.6 MiB [] 18% 1.6s\u001b[0K\u001b[1G87.6 MiB [] 19% 1.6s\u001b[0K\u001b[1G87.6 MiB [] 20% 1.6s\u001b[0K\u001b[1G87.6 MiB [] 22% 1.5s\u001b[0K\u001b[1G87.6 MiB [] 23% 1.4s\u001b[0K\u001b[1G87.6 MiB [] 25% 1.4s\u001b[0K\u001b[1G87.6 MiB [] 26% 1.4s\u001b[0K\u001b[1G87.6 MiB [] 28% 1.3s\u001b[0K\u001b[1G87.6 MiB [] 29% 1.3s\u001b[0K\u001b[1G87.6 MiB [] 30% 1.2s\u001b[0K\u001b[1G87.6 MiB [] 32% 1.2s\u001b[0K\u001b[1G87.6 MiB [] 34% 1.1s\u001b[0K\u001b[1G87.6 MiB [] 35% 1.1s\u001b[0K\u001b[1G87.6 MiB [] 36% 1.1s\u001b[0K\u001b[1G87.6 MiB [] 38% 1.0s\u001b[0K\u001b[1G87.6 MiB [] 39% 1.0s\u001b[0K\u001b[1G87.6 MiB [] 40% 1.0s\u001b[0K\u001b[1G87.6 MiB [] 42% 0.9s\u001b[0K\u001b[1G87.6 MiB [] 43% 0.9s\u001b[0K\u001b[1G87.6 MiB [] 45% 0.9s\u001b[0K\u001b[1G87.6 MiB [] 46% 0.9s\u001b[0K\u001b[1G87.6 MiB [] 47% 0.8s\u001b[0K\u001b[1G87.6 MiB [] 49% 0.8s\u001b[0K\u001b[1G87.6 MiB [] 50% 0.8s\u001b[0K\u001b[1G87.6 MiB [] 52% 0.8s\u001b[0K\u001b[1G87.6 MiB [] 53% 0.7s\u001b[0K\u001b[1G87.6 MiB [] 53% 0.8s\u001b[0K\u001b[1G87.6 MiB [] 55% 0.7s\u001b[0K\u001b[1G87.6 MiB [] 57% 0.7s\u001b[0K\u001b[1G87.6 MiB [] 59% 0.7s\u001b[0K\u001b[1G87.6 MiB [] 60% 0.6s\u001b[0K\u001b[1G87.6 MiB [] 62% 0.6s\u001b[0K\u001b[1G87.6 MiB [] 64% 0.6s\u001b[0K\u001b[1G87.6 MiB [] 65% 0.5s\u001b[0K\u001b[1G87.6 MiB [] 67% 0.5s\u001b[0K\u001b[1G87.6 MiB [] 68% 0.5s\u001b[0K\u001b[1G87.6 MiB [] 70% 0.4s\u001b[0K\u001b[1G87.6 MiB [] 71% 0.4s\u001b[0K\u001b[1G87.6 MiB [] 73% 0.4s\u001b[0K\u001b[1G87.6 MiB [] 74% 0.4s\u001b[0K\u001b[1G87.6 MiB [] 77% 0.3s\u001b[0K\u001b[1G87.6 MiB [] 79% 0.3s\u001b[0K\u001b[1G87.6 MiB [] 80% 0.3s\u001b[0K\u001b[1G87.6 MiB [] 81% 0.3s\u001b[0K\u001b[1G87.6 MiB [] 82% 0.3s\u001b[0K\u001b[1G87.6 MiB [] 83% 0.2s\u001b[0K\u001b[1G87.6 MiB [] 84% 0.2s\u001b[0K\u001b[1G87.6 MiB [] 85% 0.2s\u001b[0K\u001b[1G87.6 MiB [] 87% 0.2s\u001b[0K\u001b[1G87.6 MiB [] 89% 0.2s\u001b[0K\u001b[1G87.6 MiB [] 90% 0.1s\u001b[0K\u001b[1G87.6 MiB [] 91% 0.1s\u001b[0K\u001b[1G87.6 MiB [] 92% 0.1s\u001b[0K\u001b[1G87.6 MiB [] 94% 0.1s\u001b[0K\u001b[1G87.6 MiB [] 95% 0.1s\u001b[0K\u001b[1G87.6 MiB [] 96% 0.0s\u001b[0K\u001b[1G87.6 MiB [] 98% 0.0s\u001b[0K\u001b[1G87.6 MiB [] 100% 0.0s\u001b[0K\n",
            "Firefox 132.0 (playwright build v1466) downloaded to /root/.cache/ms-playwright/firefox-1466\n",
            "Downloading Webkit 18.2 (playwright build v2104)\u001b[2m from https://playwright.azureedge.net/builds/webkit/2104/webkit-ubuntu-22.04.zip\u001b[22m\n",
            "\u001b[1G95.5 MiB [] 0% 0.0s\u001b[0K\u001b[1G95.5 MiB [] 0% 29.2s\u001b[0K\u001b[1G95.5 MiB [] 0% 36.8s\u001b[0K\u001b[1G95.5 MiB [] 0% 27.7s\u001b[0K\u001b[1G95.5 MiB [] 0% 27.9s\u001b[0K\u001b[1G95.5 MiB [] 0% 31.0s\u001b[0K\u001b[1G95.5 MiB [] 0% 38.8s\u001b[0K\u001b[1G95.5 MiB [] 0% 46.2s\u001b[0K\u001b[1G95.5 MiB [] 0% 47.2s\u001b[0K\u001b[1G95.5 MiB [] 0% 47.7s\u001b[0K\u001b[1G95.5 MiB [] 0% 46.0s\u001b[0K\u001b[1G95.5 MiB [] 0% 44.9s\u001b[0K\u001b[1G95.5 MiB [] 0% 44.1s\u001b[0K\u001b[1G95.5 MiB [] 0% 43.4s\u001b[0K\u001b[1G95.5 MiB [] 0% 45.7s\u001b[0K\u001b[1G95.5 MiB [] 0% 45.4s\u001b[0K\u001b[1G95.5 MiB [] 0% 45.6s\u001b[0K\u001b[1G95.5 MiB [] 0% 43.2s\u001b[0K\u001b[1G95.5 MiB [] 1% 40.3s\u001b[0K\u001b[1G95.5 MiB [] 1% 39.7s\u001b[0K\u001b[1G95.5 MiB [] 1% 36.1s\u001b[0K\u001b[1G95.5 MiB [] 1% 34.9s\u001b[0K\u001b[1G95.5 MiB [] 1% 35.7s\u001b[0K\u001b[1G95.5 MiB [] 1% 35.8s\u001b[0K\u001b[1G95.5 MiB [] 1% 36.0s\u001b[0K\u001b[1G95.5 MiB [] 1% 36.4s\u001b[0K\u001b[1G95.5 MiB [] 1% 36.2s\u001b[0K\u001b[1G95.5 MiB [] 1% 36.1s\u001b[0K\u001b[1G95.5 MiB [] 1% 35.4s\u001b[0K\u001b[1G95.5 MiB [] 1% 34.5s\u001b[0K\u001b[1G95.5 MiB [] 2% 33.6s\u001b[0K\u001b[1G95.5 MiB [] 2% 28.0s\u001b[0K\u001b[1G95.5 MiB [] 2% 23.8s\u001b[0K\u001b[1G95.5 MiB [] 3% 19.2s\u001b[0K\u001b[1G95.5 MiB [] 4% 15.8s\u001b[0K\u001b[1G95.5 MiB [] 5% 14.2s\u001b[0K\u001b[1G95.5 MiB [] 5% 13.0s\u001b[0K\u001b[1G95.5 MiB [] 6% 11.8s\u001b[0K\u001b[1G95.5 MiB [] 6% 12.0s\u001b[0K\u001b[1G95.5 MiB [] 6% 12.4s\u001b[0K\u001b[1G95.5 MiB [] 6% 12.5s\u001b[0K\u001b[1G95.5 MiB [] 6% 12.7s\u001b[0K\u001b[1G95.5 MiB [] 7% 12.0s\u001b[0K\u001b[1G95.5 MiB [] 7% 11.9s\u001b[0K\u001b[1G95.5 MiB [] 8% 11.2s\u001b[0K\u001b[1G95.5 MiB [] 8% 10.8s\u001b[0K\u001b[1G95.5 MiB [] 9% 10.5s\u001b[0K\u001b[1G95.5 MiB [] 9% 10.3s\u001b[0K\u001b[1G95.5 MiB [] 9% 10.4s\u001b[0K\u001b[1G95.5 MiB [] 9% 10.1s\u001b[0K\u001b[1G95.5 MiB [] 10% 10.1s\u001b[0K\u001b[1G95.5 MiB [] 10% 9.9s\u001b[0K\u001b[1G95.5 MiB [] 10% 9.6s\u001b[0K\u001b[1G95.5 MiB [] 11% 9.0s\u001b[0K\u001b[1G95.5 MiB [] 11% 8.9s\u001b[0K\u001b[1G95.5 MiB [] 12% 8.2s\u001b[0K\u001b[1G95.5 MiB [] 13% 7.8s\u001b[0K\u001b[1G95.5 MiB [] 14% 7.5s\u001b[0K\u001b[1G95.5 MiB [] 15% 7.1s\u001b[0K\u001b[1G95.5 MiB [] 16% 6.7s\u001b[0K\u001b[1G95.5 MiB [] 16% 6.4s\u001b[0K\u001b[1G95.5 MiB [] 17% 6.3s\u001b[0K\u001b[1G95.5 MiB [] 18% 6.0s\u001b[0K\u001b[1G95.5 MiB [] 19% 5.7s\u001b[0K\u001b[1G95.5 MiB [] 19% 5.6s\u001b[0K\u001b[1G95.5 MiB [] 19% 5.7s\u001b[0K\u001b[1G95.5 MiB [] 20% 5.6s\u001b[0K\u001b[1G95.5 MiB [] 20% 5.5s\u001b[0K\u001b[1G95.5 MiB [] 20% 5.6s\u001b[0K\u001b[1G95.5 MiB [] 21% 5.5s\u001b[0K\u001b[1G95.5 MiB [] 22% 5.3s\u001b[0K\u001b[1G95.5 MiB [] 23% 5.0s\u001b[0K\u001b[1G95.5 MiB [] 24% 4.9s\u001b[0K\u001b[1G95.5 MiB [] 25% 4.8s\u001b[0K\u001b[1G95.5 MiB [] 26% 4.6s\u001b[0K\u001b[1G95.5 MiB [] 26% 4.7s\u001b[0K\u001b[1G95.5 MiB [] 26% 4.6s\u001b[0K\u001b[1G95.5 MiB [] 27% 4.5s\u001b[0K\u001b[1G95.5 MiB [] 28% 4.4s\u001b[0K\u001b[1G95.5 MiB [] 29% 4.2s\u001b[0K\u001b[1G95.5 MiB [] 29% 4.3s\u001b[0K\u001b[1G95.5 MiB [] 29% 4.2s\u001b[0K\u001b[1G95.5 MiB [] 30% 4.2s\u001b[0K\u001b[1G95.5 MiB [] 30% 4.3s\u001b[0K\u001b[1G95.5 MiB [] 31% 4.2s\u001b[0K\u001b[1G95.5 MiB [] 31% 4.1s\u001b[0K\u001b[1G95.5 MiB [] 32% 4.0s\u001b[0K\u001b[1G95.5 MiB [] 33% 4.0s\u001b[0K\u001b[1G95.5 MiB [] 34% 3.8s\u001b[0K\u001b[1G95.5 MiB [] 34% 3.7s\u001b[0K\u001b[1G95.5 MiB [] 35% 3.7s\u001b[0K\u001b[1G95.5 MiB [] 35% 3.6s\u001b[0K\u001b[1G95.5 MiB [] 36% 3.5s\u001b[0K\u001b[1G95.5 MiB [] 37% 3.4s\u001b[0K\u001b[1G95.5 MiB [] 37% 3.5s\u001b[0K\u001b[1G95.5 MiB [] 38% 3.4s\u001b[0K\u001b[1G95.5 MiB [] 39% 3.3s\u001b[0K\u001b[1G95.5 MiB [] 39% 3.2s\u001b[0K\u001b[1G95.5 MiB [] 40% 3.2s\u001b[0K\u001b[1G95.5 MiB [] 40% 3.1s\u001b[0K\u001b[1G95.5 MiB [] 41% 3.1s\u001b[0K\u001b[1G95.5 MiB [] 41% 3.0s\u001b[0K\u001b[1G95.5 MiB [] 42% 3.0s\u001b[0K\u001b[1G95.5 MiB [] 44% 2.8s\u001b[0K\u001b[1G95.5 MiB [] 45% 2.7s\u001b[0K\u001b[1G95.5 MiB [] 47% 2.6s\u001b[0K\u001b[1G95.5 MiB [] 48% 2.5s\u001b[0K\u001b[1G95.5 MiB [] 49% 2.5s\u001b[0K\u001b[1G95.5 MiB [] 51% 2.4s\u001b[0K\u001b[1G95.5 MiB [] 51% 2.3s\u001b[0K\u001b[1G95.5 MiB [] 52% 2.2s\u001b[0K\u001b[1G95.5 MiB [] 53% 2.2s\u001b[0K\u001b[1G95.5 MiB [] 54% 2.1s\u001b[0K\u001b[1G95.5 MiB [] 55% 2.0s\u001b[0K\u001b[1G95.5 MiB [] 56% 2.0s\u001b[0K\u001b[1G95.5 MiB [] 56% 1.9s\u001b[0K\u001b[1G95.5 MiB [] 57% 1.9s\u001b[0K\u001b[1G95.5 MiB [] 58% 1.9s\u001b[0K\u001b[1G95.5 MiB [] 59% 1.8s\u001b[0K\u001b[1G95.5 MiB [] 60% 1.8s\u001b[0K\u001b[1G95.5 MiB [] 61% 1.7s\u001b[0K\u001b[1G95.5 MiB [] 62% 1.7s\u001b[0K\u001b[1G95.5 MiB [] 63% 1.6s\u001b[0K\u001b[1G95.5 MiB [] 64% 1.5s\u001b[0K\u001b[1G95.5 MiB [] 65% 1.4s\u001b[0K\u001b[1G95.5 MiB [] 66% 1.4s\u001b[0K\u001b[1G95.5 MiB [] 68% 1.3s\u001b[0K\u001b[1G95.5 MiB [] 69% 1.2s\u001b[0K\u001b[1G95.5 MiB [] 70% 1.2s\u001b[0K\u001b[1G95.5 MiB [] 71% 1.2s\u001b[0K\u001b[1G95.5 MiB [] 72% 1.1s\u001b[0K\u001b[1G95.5 MiB [] 73% 1.1s\u001b[0K\u001b[1G95.5 MiB [] 74% 1.0s\u001b[0K\u001b[1G95.5 MiB [] 75% 1.0s\u001b[0K\u001b[1G95.5 MiB [] 76% 0.9s\u001b[0K\u001b[1G95.5 MiB [] 77% 0.9s\u001b[0K\u001b[1G95.5 MiB [] 78% 0.9s\u001b[0K\u001b[1G95.5 MiB [] 80% 0.8s\u001b[0K\u001b[1G95.5 MiB [] 81% 0.7s\u001b[0K\u001b[1G95.5 MiB [] 82% 0.7s\u001b[0K\u001b[1G95.5 MiB [] 83% 0.7s\u001b[0K\u001b[1G95.5 MiB [] 83% 0.6s\u001b[0K\u001b[1G95.5 MiB [] 84% 0.6s\u001b[0K\u001b[1G95.5 MiB [] 85% 0.6s\u001b[0K\u001b[1G95.5 MiB [] 86% 0.5s\u001b[0K\u001b[1G95.5 MiB [] 87% 0.5s\u001b[0K\u001b[1G95.5 MiB [] 88% 0.5s\u001b[0K\u001b[1G95.5 MiB [] 89% 0.4s\u001b[0K\u001b[1G95.5 MiB [] 90% 0.4s\u001b[0K\u001b[1G95.5 MiB [] 90% 0.3s\u001b[0K\u001b[1G95.5 MiB [] 91% 0.3s\u001b[0K\u001b[1G95.5 MiB [] 92% 0.3s\u001b[0K\u001b[1G95.5 MiB [] 93% 0.3s\u001b[0K\u001b[1G95.5 MiB [] 94% 0.2s\u001b[0K\u001b[1G95.5 MiB [] 95% 0.2s\u001b[0K\u001b[1G95.5 MiB [] 96% 0.2s\u001b[0K\u001b[1G95.5 MiB [] 96% 0.1s\u001b[0K\u001b[1G95.5 MiB [] 97% 0.1s\u001b[0K\u001b[1G95.5 MiB [] 98% 0.1s\u001b[0K\u001b[1G95.5 MiB [] 98% 0.0s\u001b[0K\u001b[1G95.5 MiB [] 99% 0.0s\u001b[0K\u001b[1G95.5 MiB [] 100% 0.0s\u001b[0K\n",
            "Webkit 18.2 (playwright build v2104) downloaded to /root/.cache/ms-playwright/webkit-2104\n",
            "Downloading FFMPEG playwright build v1010\u001b[2m from https://playwright.azureedge.net/builds/ffmpeg/1010/ffmpeg-linux.zip\u001b[22m\n",
            "\u001b[1G2.3 MiB [] 0% 0.0s\u001b[0K\u001b[1G2.3 MiB [] 6% 0.3s\u001b[0K\u001b[1G2.3 MiB [] 24% 0.1s\u001b[0K\u001b[1G2.3 MiB [] 37% 0.1s\u001b[0K\u001b[1G2.3 MiB [] 76% 0.0s\u001b[0K\u001b[1G2.3 MiB [] 100% 0.0s\u001b[0K\n",
            "FFMPEG playwright build v1010 downloaded to /root/.cache/ms-playwright/ffmpeg-1010\n",
            "Playwright Host validation warning: \n",
            "╔══════════════════════════════════════════════════════╗\n",
            "║ Host system is missing dependencies to run browsers. ║\n",
            "║ Missing libraries:                                   ║\n",
            "║     libwoff2dec.so.1.0.2                             ║\n",
            "║     libgstgl-1.0.so.0                                ║\n",
            "║     libgstcodecparsers-1.0.so.0                      ║\n",
            "║     libavif.so.13                                    ║\n",
            "║     libharfbuzz-icu.so.0                             ║\n",
            "║     libenchant-2.so.2                                ║\n",
            "║     libsecret-1.so.0                                 ║\n",
            "║     libhyphen.so.0                                   ║\n",
            "║     libmanette-0.2.so.0                              ║\n",
            "╚══════════════════════════════════════════════════════╝\n",
            "    at validateDependenciesLinux (/usr/local/lib/python3.10/dist-packages/playwright/driver/package/lib/server/registry/dependencies.js:216:9)\n",
            "\u001b[90m    at process.processTicksAndRejections (node:internal/process/task_queues:105:5)\u001b[39m\n",
            "    at async Registry._validateHostRequirements (/usr/local/lib/python3.10/dist-packages/playwright/driver/package/lib/server/registry/index.js:753:43)\n",
            "    at async Registry._validateHostRequirementsForExecutableIfNeeded (/usr/local/lib/python3.10/dist-packages/playwright/driver/package/lib/server/registry/index.js:851:7)\n",
            "    at async Registry.validateHostRequirementsForExecutablesIfNeeded (/usr/local/lib/python3.10/dist-packages/playwright/driver/package/lib/server/registry/index.js:840:43)\n",
            "    at async t.<anonymous> (/usr/local/lib/python3.10/dist-packages/playwright/driver/package/lib/cli/program.js:137:7)\n"
          ]
        }
      ],
      "source": [
        "!pip install playwright\n",
        "from playwright.async_api import async_playwright\n",
        "import asyncio\n",
        "# Install Playwright\n",
        "#!pip install playwright\n",
        "\n",
        "# Install the required browsers\n",
        "!python3 -m playwright install"
      ]
    },
    {
      "cell_type": "code",
      "execution_count": null,
      "metadata": {
        "colab": {
          "base_uri": "https://localhost:8080/",
          "height": 1000
        },
        "id": "-cDdHE1qORb3",
        "outputId": "1fa4d061-d63d-49a9-97ba-4bf8b2a269fa"
      },
      "outputs": [
        {
          "output_type": "display_data",
          "data": {
            "text/plain": [
              "<IPython.core.display.HTML object>"
            ],
            "text/html": [
              "\n",
              "     <input type=\"file\" id=\"files-b3bb8492-8c4f-4a43-a9ef-aaf233f32cc8\" name=\"files[]\" multiple disabled\n",
              "        style=\"border:none\" />\n",
              "     <output id=\"result-b3bb8492-8c4f-4a43-a9ef-aaf233f32cc8\">\n",
              "      Upload widget is only available when the cell has been executed in the\n",
              "      current browser session. Please rerun this cell to enable.\n",
              "      </output>\n",
              "      <script>// Copyright 2017 Google LLC\n",
              "//\n",
              "// Licensed under the Apache License, Version 2.0 (the \"License\");\n",
              "// you may not use this file except in compliance with the License.\n",
              "// You may obtain a copy of the License at\n",
              "//\n",
              "//      http://www.apache.org/licenses/LICENSE-2.0\n",
              "//\n",
              "// Unless required by applicable law or agreed to in writing, software\n",
              "// distributed under the License is distributed on an \"AS IS\" BASIS,\n",
              "// WITHOUT WARRANTIES OR CONDITIONS OF ANY KIND, either express or implied.\n",
              "// See the License for the specific language governing permissions and\n",
              "// limitations under the License.\n",
              "\n",
              "/**\n",
              " * @fileoverview Helpers for google.colab Python module.\n",
              " */\n",
              "(function(scope) {\n",
              "function span(text, styleAttributes = {}) {\n",
              "  const element = document.createElement('span');\n",
              "  element.textContent = text;\n",
              "  for (const key of Object.keys(styleAttributes)) {\n",
              "    element.style[key] = styleAttributes[key];\n",
              "  }\n",
              "  return element;\n",
              "}\n",
              "\n",
              "// Max number of bytes which will be uploaded at a time.\n",
              "const MAX_PAYLOAD_SIZE = 100 * 1024;\n",
              "\n",
              "function _uploadFiles(inputId, outputId) {\n",
              "  const steps = uploadFilesStep(inputId, outputId);\n",
              "  const outputElement = document.getElementById(outputId);\n",
              "  // Cache steps on the outputElement to make it available for the next call\n",
              "  // to uploadFilesContinue from Python.\n",
              "  outputElement.steps = steps;\n",
              "\n",
              "  return _uploadFilesContinue(outputId);\n",
              "}\n",
              "\n",
              "// This is roughly an async generator (not supported in the browser yet),\n",
              "// where there are multiple asynchronous steps and the Python side is going\n",
              "// to poll for completion of each step.\n",
              "// This uses a Promise to block the python side on completion of each step,\n",
              "// then passes the result of the previous step as the input to the next step.\n",
              "function _uploadFilesContinue(outputId) {\n",
              "  const outputElement = document.getElementById(outputId);\n",
              "  const steps = outputElement.steps;\n",
              "\n",
              "  const next = steps.next(outputElement.lastPromiseValue);\n",
              "  return Promise.resolve(next.value.promise).then((value) => {\n",
              "    // Cache the last promise value to make it available to the next\n",
              "    // step of the generator.\n",
              "    outputElement.lastPromiseValue = value;\n",
              "    return next.value.response;\n",
              "  });\n",
              "}\n",
              "\n",
              "/**\n",
              " * Generator function which is called between each async step of the upload\n",
              " * process.\n",
              " * @param {string} inputId Element ID of the input file picker element.\n",
              " * @param {string} outputId Element ID of the output display.\n",
              " * @return {!Iterable<!Object>} Iterable of next steps.\n",
              " */\n",
              "function* uploadFilesStep(inputId, outputId) {\n",
              "  const inputElement = document.getElementById(inputId);\n",
              "  inputElement.disabled = false;\n",
              "\n",
              "  const outputElement = document.getElementById(outputId);\n",
              "  outputElement.innerHTML = '';\n",
              "\n",
              "  const pickedPromise = new Promise((resolve) => {\n",
              "    inputElement.addEventListener('change', (e) => {\n",
              "      resolve(e.target.files);\n",
              "    });\n",
              "  });\n",
              "\n",
              "  const cancel = document.createElement('button');\n",
              "  inputElement.parentElement.appendChild(cancel);\n",
              "  cancel.textContent = 'Cancel upload';\n",
              "  const cancelPromise = new Promise((resolve) => {\n",
              "    cancel.onclick = () => {\n",
              "      resolve(null);\n",
              "    };\n",
              "  });\n",
              "\n",
              "  // Wait for the user to pick the files.\n",
              "  const files = yield {\n",
              "    promise: Promise.race([pickedPromise, cancelPromise]),\n",
              "    response: {\n",
              "      action: 'starting',\n",
              "    }\n",
              "  };\n",
              "\n",
              "  cancel.remove();\n",
              "\n",
              "  // Disable the input element since further picks are not allowed.\n",
              "  inputElement.disabled = true;\n",
              "\n",
              "  if (!files) {\n",
              "    return {\n",
              "      response: {\n",
              "        action: 'complete',\n",
              "      }\n",
              "    };\n",
              "  }\n",
              "\n",
              "  for (const file of files) {\n",
              "    const li = document.createElement('li');\n",
              "    li.append(span(file.name, {fontWeight: 'bold'}));\n",
              "    li.append(span(\n",
              "        `(${file.type || 'n/a'}) - ${file.size} bytes, ` +\n",
              "        `last modified: ${\n",
              "            file.lastModifiedDate ? file.lastModifiedDate.toLocaleDateString() :\n",
              "                                    'n/a'} - `));\n",
              "    const percent = span('0% done');\n",
              "    li.appendChild(percent);\n",
              "\n",
              "    outputElement.appendChild(li);\n",
              "\n",
              "    const fileDataPromise = new Promise((resolve) => {\n",
              "      const reader = new FileReader();\n",
              "      reader.onload = (e) => {\n",
              "        resolve(e.target.result);\n",
              "      };\n",
              "      reader.readAsArrayBuffer(file);\n",
              "    });\n",
              "    // Wait for the data to be ready.\n",
              "    let fileData = yield {\n",
              "      promise: fileDataPromise,\n",
              "      response: {\n",
              "        action: 'continue',\n",
              "      }\n",
              "    };\n",
              "\n",
              "    // Use a chunked sending to avoid message size limits. See b/62115660.\n",
              "    let position = 0;\n",
              "    do {\n",
              "      const length = Math.min(fileData.byteLength - position, MAX_PAYLOAD_SIZE);\n",
              "      const chunk = new Uint8Array(fileData, position, length);\n",
              "      position += length;\n",
              "\n",
              "      const base64 = btoa(String.fromCharCode.apply(null, chunk));\n",
              "      yield {\n",
              "        response: {\n",
              "          action: 'append',\n",
              "          file: file.name,\n",
              "          data: base64,\n",
              "        },\n",
              "      };\n",
              "\n",
              "      let percentDone = fileData.byteLength === 0 ?\n",
              "          100 :\n",
              "          Math.round((position / fileData.byteLength) * 100);\n",
              "      percent.textContent = `${percentDone}% done`;\n",
              "\n",
              "    } while (position < fileData.byteLength);\n",
              "  }\n",
              "\n",
              "  // All done.\n",
              "  yield {\n",
              "    response: {\n",
              "      action: 'complete',\n",
              "    }\n",
              "  };\n",
              "}\n",
              "\n",
              "scope.google = scope.google || {};\n",
              "scope.google.colab = scope.google.colab || {};\n",
              "scope.google.colab._files = {\n",
              "  _uploadFiles,\n",
              "  _uploadFilesContinue,\n",
              "};\n",
              "})(self);\n",
              "</script> "
            ]
          },
          "metadata": {}
        },
        {
          "output_type": "stream",
          "name": "stdout",
          "text": [
            "Saving browser_manager.py to browser_manager.py\n"
          ]
        },
        {
          "output_type": "execute_result",
          "data": {
            "text/plain": [
              "{'browser_manager.py': b'\\n\\nimport asyncio\\nfrom playwright.async_api import async_playwright\\nfrom google.colab import files\\n\\nclass BrowserManager:\\n    def __init__(self):\\n        self.browser = None\\n        self.page = None\\n        self.pages = []\\n\\n\\n\\n    async def start_browser(self):\\n        \"\"\"this method is to launch the browser\"\"\"\\n        playwright = await async_playwright().start()\\n        self.browser = await playwright.chromium.launch(headless=True)\\n        self.page = await self.browser.new_page()\\n        print(\"Browser launched successfully!\")\\n\\n\\n    async def close_browser(self):\\n        \"\"\"this method closes the browser\"\"\"\\n        if self.browser:\\n            await self.browser.close()\\n            self.browser = None\\n            self.page = None\\n            self.pages = []\\n            print(\"Browser closed successfully!\")\\n        else:\\n            print(\"Browser not closed yet!\")\\n\\n\\n    async def get_page(self):\\n        \"\"\"this method returns the page\"\"\"\\n        return self.page\\n\\n\\n    async def get_browser(self):\\n        \"\"\"this method returns the browser!\"\"\"\\n        return self.browser\\n\\n\\n    async def navigate_to_page(self, url: str = None):\\n        \"\"\"Navigation to a specific oage with a known url\"\"\"\\n        await self.page.goto(url)\\n        #Lets take a screenshot of the damn page as evidence,haha\\xf0\\x9f\\x98\\x82\\n        shot_path = f\"Evidnece_{url.replace(\\'https://\\', \\'\\').replace(\\'/\\', \\'_\\').replace(\\'.\\', \\'_\\')}.webp\"\\n        await self.page.screenshot(path=shot_path)\\n        files.download(shot_path)\\n        print(f\"Navigated to the page {url} successfully and saved a copy as evidence or proof of visitation!\")\\n\\n\\n    async def manage_tabs(self, url):\\n        \"\"\"Open a new tab and navigate to a url\"\"\"\\n        #self.browser = await playwright.chromium.lauch(headless= False)\\n        if not self.browser:\\n            print(\"Browser is not initialised\")\\n            return\\n        print(\"Opening a new tab....\")\\n        if url is None:\\n            raise ValueError(\"URL required to open a new tab!\")\\n        self.new_page = await self.browser.new_page()\\n        await self.new_page.goto(url)\\n        print(f\"Navigated to a new tab for {url} successfully!\")\\n        # Take a screenshot of the new tab\\n        screenshot_path = f\"screenshot_{url.replace(\\'https://\\', \\'\\').replace(\\'/\\', \\'_\\').replace(\\'.\\', \\'_\\')}.png\"\\n        await self.new_page.screenshot(path=screenshot_path)\\n        files.download(screenshot_path)\\n        print(f\"Screenshot of the new tab saved as {screenshot_path}\")\\n\\n\\n    async def screenshot_page(self):\\n        \"\"\"Take s screenshot of the current page\"\"\"\\n        #path = \"screenshot.png\"\\n        await self.page.screenshot(path= \"screenshot.jpg\")\\n        evidence = files.download(\"screenshot.jpg\")\\n        if evidence == True:\\n            print(\"Screenshot taken successfully!\")\\n        else:\\n            print(\"Visited but not downloaded!\")\\n\\n\\n    async def emulate_device(self, device_name):\\n        \"\"\"Simulate a specific device\"\"\"\\n        from playwright.async_api import devices\\n        device = devices[device_name]\\n        context = await self.browser.new_context(**device)\\n        self.page = await context.new_page()\\n        print(f\"Emulated device {device_name} successfully!\")\\n\\n'}"
            ]
          },
          "metadata": {},
          "execution_count": 2
        }
      ],
      "source": [
        "from google.colab import files\n",
        "files.upload()"
      ]
    },
    {
      "cell_type": "code",
      "execution_count": null,
      "metadata": {
        "colab": {
          "base_uri": "https://localhost:8080/",
          "height": 264
        },
        "id": "c_fL7tRlOohK",
        "outputId": "266215e3-3cbd-4016-ecf4-eaf46642a6c3"
      },
      "outputs": [
        {
          "output_type": "stream",
          "name": "stdout",
          "text": [
            "Browser launched successfully!\n"
          ]
        },
        {
          "output_type": "display_data",
          "data": {
            "text/plain": [
              "<IPython.core.display.Javascript object>"
            ],
            "application/javascript": [
              "\n",
              "    async function download(id, filename, size) {\n",
              "      if (!google.colab.kernel.accessAllowed) {\n",
              "        return;\n",
              "      }\n",
              "      const div = document.createElement('div');\n",
              "      const label = document.createElement('label');\n",
              "      label.textContent = `Downloading \"${filename}\": `;\n",
              "      div.appendChild(label);\n",
              "      const progress = document.createElement('progress');\n",
              "      progress.max = size;\n",
              "      div.appendChild(progress);\n",
              "      document.body.appendChild(div);\n",
              "\n",
              "      const buffers = [];\n",
              "      let downloaded = 0;\n",
              "\n",
              "      const channel = await google.colab.kernel.comms.open(id);\n",
              "      // Send a message to notify the kernel that we're ready.\n",
              "      channel.send({})\n",
              "\n",
              "      for await (const message of channel.messages) {\n",
              "        // Send a message to notify the kernel that we're ready.\n",
              "        channel.send({})\n",
              "        if (message.buffers) {\n",
              "          for (const buffer of message.buffers) {\n",
              "            buffers.push(buffer);\n",
              "            downloaded += buffer.byteLength;\n",
              "            progress.value = downloaded;\n",
              "          }\n",
              "        }\n",
              "      }\n",
              "      const blob = new Blob(buffers, {type: 'application/binary'});\n",
              "      const a = document.createElement('a');\n",
              "      a.href = window.URL.createObjectURL(blob);\n",
              "      a.download = filename;\n",
              "      div.appendChild(a);\n",
              "      a.click();\n",
              "      div.remove();\n",
              "    }\n",
              "  "
            ]
          },
          "metadata": {}
        },
        {
          "output_type": "display_data",
          "data": {
            "text/plain": [
              "<IPython.core.display.Javascript object>"
            ],
            "application/javascript": [
              "download(\"download_51e7fb9c-6819-470a-a244-cfe9d7799740\", \"Evidnece_the-internet_herokuapp_com.webp\", 72580)"
            ]
          },
          "metadata": {}
        },
        {
          "output_type": "stream",
          "name": "stdout",
          "text": [
            "Navigated to the page https://the-internet.herokuapp.com successfully and saved a copy as evidence or proof of visitation!\n",
            "Opening a new tab....\n",
            "Navigated to a new tab for https://www.wikipedia.org successfully!\n"
          ]
        },
        {
          "output_type": "display_data",
          "data": {
            "text/plain": [
              "<IPython.core.display.Javascript object>"
            ],
            "application/javascript": [
              "\n",
              "    async function download(id, filename, size) {\n",
              "      if (!google.colab.kernel.accessAllowed) {\n",
              "        return;\n",
              "      }\n",
              "      const div = document.createElement('div');\n",
              "      const label = document.createElement('label');\n",
              "      label.textContent = `Downloading \"${filename}\": `;\n",
              "      div.appendChild(label);\n",
              "      const progress = document.createElement('progress');\n",
              "      progress.max = size;\n",
              "      div.appendChild(progress);\n",
              "      document.body.appendChild(div);\n",
              "\n",
              "      const buffers = [];\n",
              "      let downloaded = 0;\n",
              "\n",
              "      const channel = await google.colab.kernel.comms.open(id);\n",
              "      // Send a message to notify the kernel that we're ready.\n",
              "      channel.send({})\n",
              "\n",
              "      for await (const message of channel.messages) {\n",
              "        // Send a message to notify the kernel that we're ready.\n",
              "        channel.send({})\n",
              "        if (message.buffers) {\n",
              "          for (const buffer of message.buffers) {\n",
              "            buffers.push(buffer);\n",
              "            downloaded += buffer.byteLength;\n",
              "            progress.value = downloaded;\n",
              "          }\n",
              "        }\n",
              "      }\n",
              "      const blob = new Blob(buffers, {type: 'application/binary'});\n",
              "      const a = document.createElement('a');\n",
              "      a.href = window.URL.createObjectURL(blob);\n",
              "      a.download = filename;\n",
              "      div.appendChild(a);\n",
              "      a.click();\n",
              "      div.remove();\n",
              "    }\n",
              "  "
            ]
          },
          "metadata": {}
        },
        {
          "output_type": "display_data",
          "data": {
            "text/plain": [
              "<IPython.core.display.Javascript object>"
            ],
            "application/javascript": [
              "download(\"download_19ebd025-4052-4508-9fb1-37f0101c50e2\", \"screenshot_www_wikipedia_org.png\", 102403)"
            ]
          },
          "metadata": {}
        },
        {
          "output_type": "stream",
          "name": "stdout",
          "text": [
            "Screenshot of the new tab saved as screenshot_www_wikipedia_org.png\n",
            "Browser closed successfully!\n"
          ]
        }
      ],
      "source": [
        "#Now lets use the methods we've created within our browser manager script\n",
        "\n",
        "from browser_manager import BrowserManager\n",
        "import asyncio\n",
        "\n",
        "#Lets create a function that would run these methods in a proper workflow when called\n",
        "async def my_main_func():\n",
        "\n",
        "\n",
        "    #First we initialise BrowserManager\n",
        "    manager = BrowserManager()\n",
        "\n",
        "    #Lets start the browser\n",
        "    await manager.start_browser()\n",
        "\n",
        "    #Now lets navigate to a random page called heroku\n",
        "    await manager.navigate_to_page(\"https://the-internet.herokuapp.com\")\n",
        "\n",
        "    #Lets test the new tab guy to open Wikipedia\n",
        "    await manager.manage_tabs(url= \"https://www.wikipedia.org\")\n",
        "\n",
        "    #The close the browser\n",
        "    await manager.close_browser()\n",
        "\n",
        "\n",
        "#Now lets call out function hopefully\n",
        "await my_main_func()\n"
      ]
    },
    {
      "cell_type": "code",
      "execution_count": null,
      "metadata": {
        "id": "zDOTJzVeBJik",
        "colab": {
          "base_uri": "https://localhost:8080/",
          "height": 1000
        },
        "outputId": "516043f1-d931-4e17-f751-6e7bd11f134d"
      },
      "outputs": [
        {
          "output_type": "stream",
          "name": "stdout",
          "text": [
            "Browser launched successfully!\n",
            "Opening a new tab....\n",
            "Navigated to a new tab for https://www.hackerone.com successfully!\n"
          ]
        },
        {
          "output_type": "display_data",
          "data": {
            "text/plain": [
              "<IPython.core.display.Javascript object>"
            ],
            "application/javascript": [
              "\n",
              "    async function download(id, filename, size) {\n",
              "      if (!google.colab.kernel.accessAllowed) {\n",
              "        return;\n",
              "      }\n",
              "      const div = document.createElement('div');\n",
              "      const label = document.createElement('label');\n",
              "      label.textContent = `Downloading \"${filename}\": `;\n",
              "      div.appendChild(label);\n",
              "      const progress = document.createElement('progress');\n",
              "      progress.max = size;\n",
              "      div.appendChild(progress);\n",
              "      document.body.appendChild(div);\n",
              "\n",
              "      const buffers = [];\n",
              "      let downloaded = 0;\n",
              "\n",
              "      const channel = await google.colab.kernel.comms.open(id);\n",
              "      // Send a message to notify the kernel that we're ready.\n",
              "      channel.send({})\n",
              "\n",
              "      for await (const message of channel.messages) {\n",
              "        // Send a message to notify the kernel that we're ready.\n",
              "        channel.send({})\n",
              "        if (message.buffers) {\n",
              "          for (const buffer of message.buffers) {\n",
              "            buffers.push(buffer);\n",
              "            downloaded += buffer.byteLength;\n",
              "            progress.value = downloaded;\n",
              "          }\n",
              "        }\n",
              "      }\n",
              "      const blob = new Blob(buffers, {type: 'application/binary'});\n",
              "      const a = document.createElement('a');\n",
              "      a.href = window.URL.createObjectURL(blob);\n",
              "      a.download = filename;\n",
              "      div.appendChild(a);\n",
              "      a.click();\n",
              "      div.remove();\n",
              "    }\n",
              "  "
            ]
          },
          "metadata": {}
        },
        {
          "output_type": "display_data",
          "data": {
            "text/plain": [
              "<IPython.core.display.Javascript object>"
            ],
            "application/javascript": [
              "download(\"download_f51f3581-ab4e-443f-86f7-d3a7273a23f9\", \"screenshot_www_hackerone_com.png\", 761861)"
            ]
          },
          "metadata": {}
        },
        {
          "output_type": "stream",
          "name": "stdout",
          "text": [
            "Screenshot of the new tab saved as screenshot_www_hackerone_com.png\n",
            "Opening a new tab....\n",
            "Navigated to a new tab for https://www.quora.com successfully!\n"
          ]
        },
        {
          "output_type": "display_data",
          "data": {
            "text/plain": [
              "<IPython.core.display.Javascript object>"
            ],
            "application/javascript": [
              "\n",
              "    async function download(id, filename, size) {\n",
              "      if (!google.colab.kernel.accessAllowed) {\n",
              "        return;\n",
              "      }\n",
              "      const div = document.createElement('div');\n",
              "      const label = document.createElement('label');\n",
              "      label.textContent = `Downloading \"${filename}\": `;\n",
              "      div.appendChild(label);\n",
              "      const progress = document.createElement('progress');\n",
              "      progress.max = size;\n",
              "      div.appendChild(progress);\n",
              "      document.body.appendChild(div);\n",
              "\n",
              "      const buffers = [];\n",
              "      let downloaded = 0;\n",
              "\n",
              "      const channel = await google.colab.kernel.comms.open(id);\n",
              "      // Send a message to notify the kernel that we're ready.\n",
              "      channel.send({})\n",
              "\n",
              "      for await (const message of channel.messages) {\n",
              "        // Send a message to notify the kernel that we're ready.\n",
              "        channel.send({})\n",
              "        if (message.buffers) {\n",
              "          for (const buffer of message.buffers) {\n",
              "            buffers.push(buffer);\n",
              "            downloaded += buffer.byteLength;\n",
              "            progress.value = downloaded;\n",
              "          }\n",
              "        }\n",
              "      }\n",
              "      const blob = new Blob(buffers, {type: 'application/binary'});\n",
              "      const a = document.createElement('a');\n",
              "      a.href = window.URL.createObjectURL(blob);\n",
              "      a.download = filename;\n",
              "      div.appendChild(a);\n",
              "      a.click();\n",
              "      div.remove();\n",
              "    }\n",
              "  "
            ]
          },
          "metadata": {}
        },
        {
          "output_type": "display_data",
          "data": {
            "text/plain": [
              "<IPython.core.display.Javascript object>"
            ],
            "application/javascript": [
              "download(\"download_b710635e-99d3-4c5d-a7e8-61e3234fd2d8\", \"screenshot_www_quora_com.png\", 1041730)"
            ]
          },
          "metadata": {}
        },
        {
          "output_type": "stream",
          "name": "stdout",
          "text": [
            "Screenshot of the new tab saved as screenshot_www_quora_com.png\n",
            "Opening a new tab....\n",
            "Navigated to a new tab for https://www.dailystar.co.uk successfully!\n"
          ]
        },
        {
          "output_type": "display_data",
          "data": {
            "text/plain": [
              "<IPython.core.display.Javascript object>"
            ],
            "application/javascript": [
              "\n",
              "    async function download(id, filename, size) {\n",
              "      if (!google.colab.kernel.accessAllowed) {\n",
              "        return;\n",
              "      }\n",
              "      const div = document.createElement('div');\n",
              "      const label = document.createElement('label');\n",
              "      label.textContent = `Downloading \"${filename}\": `;\n",
              "      div.appendChild(label);\n",
              "      const progress = document.createElement('progress');\n",
              "      progress.max = size;\n",
              "      div.appendChild(progress);\n",
              "      document.body.appendChild(div);\n",
              "\n",
              "      const buffers = [];\n",
              "      let downloaded = 0;\n",
              "\n",
              "      const channel = await google.colab.kernel.comms.open(id);\n",
              "      // Send a message to notify the kernel that we're ready.\n",
              "      channel.send({})\n",
              "\n",
              "      for await (const message of channel.messages) {\n",
              "        // Send a message to notify the kernel that we're ready.\n",
              "        channel.send({})\n",
              "        if (message.buffers) {\n",
              "          for (const buffer of message.buffers) {\n",
              "            buffers.push(buffer);\n",
              "            downloaded += buffer.byteLength;\n",
              "            progress.value = downloaded;\n",
              "          }\n",
              "        }\n",
              "      }\n",
              "      const blob = new Blob(buffers, {type: 'application/binary'});\n",
              "      const a = document.createElement('a');\n",
              "      a.href = window.URL.createObjectURL(blob);\n",
              "      a.download = filename;\n",
              "      div.appendChild(a);\n",
              "      a.click();\n",
              "      div.remove();\n",
              "    }\n",
              "  "
            ]
          },
          "metadata": {}
        },
        {
          "output_type": "display_data",
          "data": {
            "text/plain": [
              "<IPython.core.display.Javascript object>"
            ],
            "application/javascript": [
              "download(\"download_1a496912-b0b3-4a9a-a5e2-adb44d089b9c\", \"screenshot_www_dailystar_co_uk.png\", 83162)"
            ]
          },
          "metadata": {}
        },
        {
          "output_type": "stream",
          "name": "stdout",
          "text": [
            "Screenshot of the new tab saved as screenshot_www_dailystar_co_uk.png\n",
            "Opening a new tab....\n",
            "Navigated to a new tab for https://www.smithsonianmag.com successfully!\n"
          ]
        },
        {
          "output_type": "display_data",
          "data": {
            "text/plain": [
              "<IPython.core.display.Javascript object>"
            ],
            "application/javascript": [
              "\n",
              "    async function download(id, filename, size) {\n",
              "      if (!google.colab.kernel.accessAllowed) {\n",
              "        return;\n",
              "      }\n",
              "      const div = document.createElement('div');\n",
              "      const label = document.createElement('label');\n",
              "      label.textContent = `Downloading \"${filename}\": `;\n",
              "      div.appendChild(label);\n",
              "      const progress = document.createElement('progress');\n",
              "      progress.max = size;\n",
              "      div.appendChild(progress);\n",
              "      document.body.appendChild(div);\n",
              "\n",
              "      const buffers = [];\n",
              "      let downloaded = 0;\n",
              "\n",
              "      const channel = await google.colab.kernel.comms.open(id);\n",
              "      // Send a message to notify the kernel that we're ready.\n",
              "      channel.send({})\n",
              "\n",
              "      for await (const message of channel.messages) {\n",
              "        // Send a message to notify the kernel that we're ready.\n",
              "        channel.send({})\n",
              "        if (message.buffers) {\n",
              "          for (const buffer of message.buffers) {\n",
              "            buffers.push(buffer);\n",
              "            downloaded += buffer.byteLength;\n",
              "            progress.value = downloaded;\n",
              "          }\n",
              "        }\n",
              "      }\n",
              "      const blob = new Blob(buffers, {type: 'application/binary'});\n",
              "      const a = document.createElement('a');\n",
              "      a.href = window.URL.createObjectURL(blob);\n",
              "      a.download = filename;\n",
              "      div.appendChild(a);\n",
              "      a.click();\n",
              "      div.remove();\n",
              "    }\n",
              "  "
            ]
          },
          "metadata": {}
        },
        {
          "output_type": "display_data",
          "data": {
            "text/plain": [
              "<IPython.core.display.Javascript object>"
            ],
            "application/javascript": [
              "download(\"download_39cde1bf-b86b-4ad1-87b0-9d8a7c721c16\", \"screenshot_www_smithsonianmag_com.png\", 295448)"
            ]
          },
          "metadata": {}
        },
        {
          "output_type": "stream",
          "name": "stdout",
          "text": [
            "Screenshot of the new tab saved as screenshot_www_smithsonianmag_com.png\n",
            "Opening a new tab....\n",
            "Navigated to a new tab for https://www.sfgate.com successfully!\n"
          ]
        },
        {
          "output_type": "display_data",
          "data": {
            "text/plain": [
              "<IPython.core.display.Javascript object>"
            ],
            "application/javascript": [
              "\n",
              "    async function download(id, filename, size) {\n",
              "      if (!google.colab.kernel.accessAllowed) {\n",
              "        return;\n",
              "      }\n",
              "      const div = document.createElement('div');\n",
              "      const label = document.createElement('label');\n",
              "      label.textContent = `Downloading \"${filename}\": `;\n",
              "      div.appendChild(label);\n",
              "      const progress = document.createElement('progress');\n",
              "      progress.max = size;\n",
              "      div.appendChild(progress);\n",
              "      document.body.appendChild(div);\n",
              "\n",
              "      const buffers = [];\n",
              "      let downloaded = 0;\n",
              "\n",
              "      const channel = await google.colab.kernel.comms.open(id);\n",
              "      // Send a message to notify the kernel that we're ready.\n",
              "      channel.send({})\n",
              "\n",
              "      for await (const message of channel.messages) {\n",
              "        // Send a message to notify the kernel that we're ready.\n",
              "        channel.send({})\n",
              "        if (message.buffers) {\n",
              "          for (const buffer of message.buffers) {\n",
              "            buffers.push(buffer);\n",
              "            downloaded += buffer.byteLength;\n",
              "            progress.value = downloaded;\n",
              "          }\n",
              "        }\n",
              "      }\n",
              "      const blob = new Blob(buffers, {type: 'application/binary'});\n",
              "      const a = document.createElement('a');\n",
              "      a.href = window.URL.createObjectURL(blob);\n",
              "      a.download = filename;\n",
              "      div.appendChild(a);\n",
              "      a.click();\n",
              "      div.remove();\n",
              "    }\n",
              "  "
            ]
          },
          "metadata": {}
        },
        {
          "output_type": "display_data",
          "data": {
            "text/plain": [
              "<IPython.core.display.Javascript object>"
            ],
            "application/javascript": [
              "download(\"download_cabd6e2a-4122-466e-b54b-073480695fde\", \"screenshot_www_sfgate_com.png\", 17704)"
            ]
          },
          "metadata": {}
        },
        {
          "output_type": "stream",
          "name": "stdout",
          "text": [
            "Screenshot of the new tab saved as screenshot_www_sfgate_com.png\n",
            "Opening a new tab....\n",
            "Navigated to a new tab for https://www.nature.com successfully!\n"
          ]
        },
        {
          "output_type": "display_data",
          "data": {
            "text/plain": [
              "<IPython.core.display.Javascript object>"
            ],
            "application/javascript": [
              "\n",
              "    async function download(id, filename, size) {\n",
              "      if (!google.colab.kernel.accessAllowed) {\n",
              "        return;\n",
              "      }\n",
              "      const div = document.createElement('div');\n",
              "      const label = document.createElement('label');\n",
              "      label.textContent = `Downloading \"${filename}\": `;\n",
              "      div.appendChild(label);\n",
              "      const progress = document.createElement('progress');\n",
              "      progress.max = size;\n",
              "      div.appendChild(progress);\n",
              "      document.body.appendChild(div);\n",
              "\n",
              "      const buffers = [];\n",
              "      let downloaded = 0;\n",
              "\n",
              "      const channel = await google.colab.kernel.comms.open(id);\n",
              "      // Send a message to notify the kernel that we're ready.\n",
              "      channel.send({})\n",
              "\n",
              "      for await (const message of channel.messages) {\n",
              "        // Send a message to notify the kernel that we're ready.\n",
              "        channel.send({})\n",
              "        if (message.buffers) {\n",
              "          for (const buffer of message.buffers) {\n",
              "            buffers.push(buffer);\n",
              "            downloaded += buffer.byteLength;\n",
              "            progress.value = downloaded;\n",
              "          }\n",
              "        }\n",
              "      }\n",
              "      const blob = new Blob(buffers, {type: 'application/binary'});\n",
              "      const a = document.createElement('a');\n",
              "      a.href = window.URL.createObjectURL(blob);\n",
              "      a.download = filename;\n",
              "      div.appendChild(a);\n",
              "      a.click();\n",
              "      div.remove();\n",
              "    }\n",
              "  "
            ]
          },
          "metadata": {}
        },
        {
          "output_type": "display_data",
          "data": {
            "text/plain": [
              "<IPython.core.display.Javascript object>"
            ],
            "application/javascript": [
              "download(\"download_8d174744-d368-4c6f-8237-ee045fb5b28e\", \"screenshot_www_nature_com.png\", 152806)"
            ]
          },
          "metadata": {}
        },
        {
          "output_type": "stream",
          "name": "stdout",
          "text": [
            "Screenshot of the new tab saved as screenshot_www_nature_com.png\n",
            "Opening a new tab....\n",
            "Navigated to a new tab for https://www.theverge.com successfully!\n"
          ]
        },
        {
          "output_type": "display_data",
          "data": {
            "text/plain": [
              "<IPython.core.display.Javascript object>"
            ],
            "application/javascript": [
              "\n",
              "    async function download(id, filename, size) {\n",
              "      if (!google.colab.kernel.accessAllowed) {\n",
              "        return;\n",
              "      }\n",
              "      const div = document.createElement('div');\n",
              "      const label = document.createElement('label');\n",
              "      label.textContent = `Downloading \"${filename}\": `;\n",
              "      div.appendChild(label);\n",
              "      const progress = document.createElement('progress');\n",
              "      progress.max = size;\n",
              "      div.appendChild(progress);\n",
              "      document.body.appendChild(div);\n",
              "\n",
              "      const buffers = [];\n",
              "      let downloaded = 0;\n",
              "\n",
              "      const channel = await google.colab.kernel.comms.open(id);\n",
              "      // Send a message to notify the kernel that we're ready.\n",
              "      channel.send({})\n",
              "\n",
              "      for await (const message of channel.messages) {\n",
              "        // Send a message to notify the kernel that we're ready.\n",
              "        channel.send({})\n",
              "        if (message.buffers) {\n",
              "          for (const buffer of message.buffers) {\n",
              "            buffers.push(buffer);\n",
              "            downloaded += buffer.byteLength;\n",
              "            progress.value = downloaded;\n",
              "          }\n",
              "        }\n",
              "      }\n",
              "      const blob = new Blob(buffers, {type: 'application/binary'});\n",
              "      const a = document.createElement('a');\n",
              "      a.href = window.URL.createObjectURL(blob);\n",
              "      a.download = filename;\n",
              "      div.appendChild(a);\n",
              "      a.click();\n",
              "      div.remove();\n",
              "    }\n",
              "  "
            ]
          },
          "metadata": {}
        },
        {
          "output_type": "display_data",
          "data": {
            "text/plain": [
              "<IPython.core.display.Javascript object>"
            ],
            "application/javascript": [
              "download(\"download_86c8da9d-4cfc-4a55-b017-ce67713323c0\", \"screenshot_www_theverge_com.png\", 112325)"
            ]
          },
          "metadata": {}
        },
        {
          "output_type": "stream",
          "name": "stdout",
          "text": [
            "Screenshot of the new tab saved as screenshot_www_theverge_com.png\n",
            "Opening a new tab....\n",
            "Navigated to a new tab for https://www.futurism.com successfully!\n"
          ]
        },
        {
          "output_type": "display_data",
          "data": {
            "text/plain": [
              "<IPython.core.display.Javascript object>"
            ],
            "application/javascript": [
              "\n",
              "    async function download(id, filename, size) {\n",
              "      if (!google.colab.kernel.accessAllowed) {\n",
              "        return;\n",
              "      }\n",
              "      const div = document.createElement('div');\n",
              "      const label = document.createElement('label');\n",
              "      label.textContent = `Downloading \"${filename}\": `;\n",
              "      div.appendChild(label);\n",
              "      const progress = document.createElement('progress');\n",
              "      progress.max = size;\n",
              "      div.appendChild(progress);\n",
              "      document.body.appendChild(div);\n",
              "\n",
              "      const buffers = [];\n",
              "      let downloaded = 0;\n",
              "\n",
              "      const channel = await google.colab.kernel.comms.open(id);\n",
              "      // Send a message to notify the kernel that we're ready.\n",
              "      channel.send({})\n",
              "\n",
              "      for await (const message of channel.messages) {\n",
              "        // Send a message to notify the kernel that we're ready.\n",
              "        channel.send({})\n",
              "        if (message.buffers) {\n",
              "          for (const buffer of message.buffers) {\n",
              "            buffers.push(buffer);\n",
              "            downloaded += buffer.byteLength;\n",
              "            progress.value = downloaded;\n",
              "          }\n",
              "        }\n",
              "      }\n",
              "      const blob = new Blob(buffers, {type: 'application/binary'});\n",
              "      const a = document.createElement('a');\n",
              "      a.href = window.URL.createObjectURL(blob);\n",
              "      a.download = filename;\n",
              "      div.appendChild(a);\n",
              "      a.click();\n",
              "      div.remove();\n",
              "    }\n",
              "  "
            ]
          },
          "metadata": {}
        },
        {
          "output_type": "display_data",
          "data": {
            "text/plain": [
              "<IPython.core.display.Javascript object>"
            ],
            "application/javascript": [
              "download(\"download_fcad399a-01e5-4a42-8bb5-e5fc30b12c73\", \"screenshot_www_futurism_com.png\", 253908)"
            ]
          },
          "metadata": {}
        },
        {
          "output_type": "stream",
          "name": "stdout",
          "text": [
            "Screenshot of the new tab saved as screenshot_www_futurism_com.png\n",
            "Opening a new tab....\n",
            "Navigated to a new tab for https://www.reddit.com/r/technology successfully!\n"
          ]
        },
        {
          "output_type": "display_data",
          "data": {
            "text/plain": [
              "<IPython.core.display.Javascript object>"
            ],
            "application/javascript": [
              "\n",
              "    async function download(id, filename, size) {\n",
              "      if (!google.colab.kernel.accessAllowed) {\n",
              "        return;\n",
              "      }\n",
              "      const div = document.createElement('div');\n",
              "      const label = document.createElement('label');\n",
              "      label.textContent = `Downloading \"${filename}\": `;\n",
              "      div.appendChild(label);\n",
              "      const progress = document.createElement('progress');\n",
              "      progress.max = size;\n",
              "      div.appendChild(progress);\n",
              "      document.body.appendChild(div);\n",
              "\n",
              "      const buffers = [];\n",
              "      let downloaded = 0;\n",
              "\n",
              "      const channel = await google.colab.kernel.comms.open(id);\n",
              "      // Send a message to notify the kernel that we're ready.\n",
              "      channel.send({})\n",
              "\n",
              "      for await (const message of channel.messages) {\n",
              "        // Send a message to notify the kernel that we're ready.\n",
              "        channel.send({})\n",
              "        if (message.buffers) {\n",
              "          for (const buffer of message.buffers) {\n",
              "            buffers.push(buffer);\n",
              "            downloaded += buffer.byteLength;\n",
              "            progress.value = downloaded;\n",
              "          }\n",
              "        }\n",
              "      }\n",
              "      const blob = new Blob(buffers, {type: 'application/binary'});\n",
              "      const a = document.createElement('a');\n",
              "      a.href = window.URL.createObjectURL(blob);\n",
              "      a.download = filename;\n",
              "      div.appendChild(a);\n",
              "      a.click();\n",
              "      div.remove();\n",
              "    }\n",
              "  "
            ]
          },
          "metadata": {}
        },
        {
          "output_type": "display_data",
          "data": {
            "text/plain": [
              "<IPython.core.display.Javascript object>"
            ],
            "application/javascript": [
              "download(\"download_662d5a8b-bbe5-4078-b594-7e67ddef0c9a\", \"screenshot_www_reddit_com_r_technology.png\", 77435)"
            ]
          },
          "metadata": {}
        },
        {
          "output_type": "stream",
          "name": "stdout",
          "text": [
            "Screenshot of the new tab saved as screenshot_www_reddit_com_r_technology.png\n",
            "Opening a new tab....\n",
            "Navigated to a new tab for https://www.theawl.com successfully!\n"
          ]
        },
        {
          "output_type": "display_data",
          "data": {
            "text/plain": [
              "<IPython.core.display.Javascript object>"
            ],
            "application/javascript": [
              "\n",
              "    async function download(id, filename, size) {\n",
              "      if (!google.colab.kernel.accessAllowed) {\n",
              "        return;\n",
              "      }\n",
              "      const div = document.createElement('div');\n",
              "      const label = document.createElement('label');\n",
              "      label.textContent = `Downloading \"${filename}\": `;\n",
              "      div.appendChild(label);\n",
              "      const progress = document.createElement('progress');\n",
              "      progress.max = size;\n",
              "      div.appendChild(progress);\n",
              "      document.body.appendChild(div);\n",
              "\n",
              "      const buffers = [];\n",
              "      let downloaded = 0;\n",
              "\n",
              "      const channel = await google.colab.kernel.comms.open(id);\n",
              "      // Send a message to notify the kernel that we're ready.\n",
              "      channel.send({})\n",
              "\n",
              "      for await (const message of channel.messages) {\n",
              "        // Send a message to notify the kernel that we're ready.\n",
              "        channel.send({})\n",
              "        if (message.buffers) {\n",
              "          for (const buffer of message.buffers) {\n",
              "            buffers.push(buffer);\n",
              "            downloaded += buffer.byteLength;\n",
              "            progress.value = downloaded;\n",
              "          }\n",
              "        }\n",
              "      }\n",
              "      const blob = new Blob(buffers, {type: 'application/binary'});\n",
              "      const a = document.createElement('a');\n",
              "      a.href = window.URL.createObjectURL(blob);\n",
              "      a.download = filename;\n",
              "      div.appendChild(a);\n",
              "      a.click();\n",
              "      div.remove();\n",
              "    }\n",
              "  "
            ]
          },
          "metadata": {}
        },
        {
          "output_type": "display_data",
          "data": {
            "text/plain": [
              "<IPython.core.display.Javascript object>"
            ],
            "application/javascript": [
              "download(\"download_cdd2d68e-6b16-4999-822a-41773f1a2de6\", \"screenshot_www_theawl_com.png\", 928998)"
            ]
          },
          "metadata": {}
        },
        {
          "output_type": "stream",
          "name": "stdout",
          "text": [
            "Screenshot of the new tab saved as screenshot_www_theawl_com.png\n",
            "Browser closed successfully!\n"
          ]
        }
      ],
      "source": [
        "#All the codes worked successfully\n",
        "#Lest use the manage tab with a list of different sites\n",
        "from browser_manager import BrowserManager\n",
        "\n",
        "async def test_tabs_with_screenshots():\n",
        "    manager2 = BrowserManager()\n",
        "\n",
        "    # Start the browser\n",
        "    await manager2.start_browser()\n",
        "\n",
        "    # Open multiple tabs and\n",
        "    urls = [\n",
        "      \"https://www.hackerone.com\",\n",
        "          \"https://www.quora.com\",\n",
        "              \"https://www.dailystar.co.uk\",\n",
        "                  \"https://www.smithsonianmag.com\",\n",
        "                      \"https://www.sfgate.com\",\n",
        "                          \"https://www.nature.com\",\n",
        "                              \"https://www.theverge.com\",\n",
        "                                  \"https://www.futurism.com\",\n",
        "                                      \"https://www.reddit.com/r/technology\",\n",
        "                                          \"https://www.theawl.com\"\n",
        "                                          ]\n",
        "    for url in urls:\n",
        "        await manager2.manage_tabs(url=url)\n",
        "\n",
        "\n",
        "    # Close the browser\n",
        "    await manager2.close_browser()\n",
        "\n",
        "await test_tabs_with_screenshots()\n"
      ]
    }
  ],
  "metadata": {
    "colab": {
      "provenance": [],
      "authorship_tag": "ABX9TyPz0VNhnZp89KNATPMBf2gV",
      "include_colab_link": true
    },
    "kernelspec": {
      "display_name": "Python 3",
      "name": "python3"
    },
    "language_info": {
      "name": "python"
    }
  },
  "nbformat": 4,
  "nbformat_minor": 0
}