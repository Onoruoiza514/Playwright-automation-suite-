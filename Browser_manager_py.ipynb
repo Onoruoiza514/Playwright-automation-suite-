{
  "nbformat": 4,
  "nbformat_minor": 0,
  "metadata": {
    "colab": {
      "provenance": [],
      "authorship_tag": "ABX9TyM+H4DO3tL+YbZ8nbMZxtXe",
      "include_colab_link": true
    },
    "kernelspec": {
      "name": "python3",
      "display_name": "Python 3"
    },
    "language_info": {
      "name": "python"
    }
  },
  "cells": [
    {
      "cell_type": "markdown",
      "metadata": {
        "id": "view-in-github",
        "colab_type": "text"
      },
      "source": [
        "<a href=\"https://colab.research.google.com/github/Onoruoiza514/Playwright-automation-suite-/blob/main/Browser_manager_py.ipynb\" target=\"_parent\"><img src=\"https://colab.research.google.com/assets/colab-badge.svg\" alt=\"Open In Colab\"/></a>"
      ]
    },
    {
      "cell_type": "code",
      "source": [
        "%%writefile browser_manager_script.py\n",
        "\n",
        "\n",
        "import asyncio\n",
        "from playwright.async_api import async_playwright\n",
        "from google.colab import files\n",
        "\n",
        "class BrowserManager:\n",
        "    def __init__(self):\n",
        "        self.browser = None\n",
        "        self.page = None\n",
        "        self.pages = []\n",
        "\n",
        "\n",
        "\n",
        "    async def start_browser(self):\n",
        "        \"\"\"this method is to launch the browser\"\"\"\n",
        "        playwright = await async_playwright().start()\n",
        "        self.browser = await playwright.chromium.launch(headless=True)\n",
        "        self.page = await self.browser.new_page()\n",
        "        print(\"Browser launched successfully!\")\n",
        "\n",
        "\n",
        "    async def close_browser(self):\n",
        "        \"\"\"this method closes the browser\"\"\"\n",
        "        if self.browser:\n",
        "            await self.browser.close()\n",
        "            self.browser = None\n",
        "            self.page = None\n",
        "            self.pages = []\n",
        "            print(\"Browser closed successfully!\")\n",
        "        else:\n",
        "            print(\"Browser not closed yet!\")\n",
        "\n",
        "\n",
        "    async def get_page(self):\n",
        "        \"\"\"this method returns the page\"\"\"\n",
        "        return self.page\n",
        "\n",
        "\n",
        "    async def get_browser(self):\n",
        "        \"\"\"this method returns the browser!\"\"\"\n",
        "        return self.browser\n",
        "\n",
        "\n",
        "    async def navigate_to_page(self, url: str = None):\n",
        "        \"\"\"Navigation to a specific oage with a known url\"\"\"\n",
        "        await self.page.goto(url)\n",
        "        #Lets take a screenshot of the damn page as evidence,haha😂\n",
        "        shot_path = f\"Evidnece_{url.replace('https://', '').replace('/', '_').replace('.', '_')}.webp\"\n",
        "        await self.page.screenshot(path=shot_path)\n",
        "        files.download(shot_path)\n",
        "        print(f\"Navigated to the page {url} successfully and saved a copy as evidence or proof of visitation!\")\n",
        "\n",
        "\n",
        "    async def manage_tabs(self, url):\n",
        "        \"\"\"Open a new tab and navigate to a url\"\"\"\n",
        "        #self.browser = await playwright.chromium.lauch(headless= False)\n",
        "        if not self.browser:\n",
        "            print(\"Browser is not initialised\")\n",
        "            return\n",
        "        print(\"Opening a new tab....\")\n",
        "        if url is None:\n",
        "            raise ValueError(\"URL required to open a new tab!\")\n",
        "        self.new_page = await self.browser.new_page()\n",
        "        await self.new_page.goto(url)\n",
        "        print(f\"Navigated to a new tab for {url} successfully!\")\n",
        "        # Take a screenshot of the new tab\n",
        "        screenshot_path = f\"screenshot_{url.replace('https://', '').replace('/', '_').replace('.', '_')}.png\"\n",
        "        await self.new_page.screenshot(path=screenshot_path)\n",
        "        files.download(screenshot_path)\n",
        "        print(f\"Screenshot of the new tab saved as {screenshot_path}\")\n",
        "\n",
        "\n",
        "    async def screenshot_page(self):\n",
        "        \"\"\"Take s screenshot of the current page\"\"\"\n",
        "        #path = \"screenshot.png\"\n",
        "        await self.page.screenshot(path= \"screenshot.jpg\")\n",
        "        evidence = files.download(\"screenshot.jpg\")\n",
        "        if evidence == True:\n",
        "            print(\"Screenshot taken successfully!\")\n",
        "        else:\n",
        "            print(\"Visited but not downloaded!\")\n",
        "\n",
        "\n",
        "    async def emulate_device(self, device_name):\n",
        "        \"\"\"Simulate a specific device\"\"\"\n",
        "        from playwright.async_api import devices\n",
        "        device = devices[device_name]\n",
        "        context = await self.browser.new_context(**device)\n",
        "        self.page = await context.new_page()\n",
        "        print(f\"Emulated device {device_name} successfully!\")\n",
        "\n"
      ],
      "metadata": {
        "id": "pGXoalt6zQys",
        "colab": {
          "base_uri": "https://localhost:8080/"
        },
        "outputId": "b89dff75-2090-422f-b0e0-f49420cb9ed6"
      },
      "execution_count": null,
      "outputs": [
        {
          "output_type": "stream",
          "name": "stdout",
          "text": [
            "Overwriting browser_manager_script.py\n"
          ]
        }
      ]
    },
    {
      "cell_type": "code",
      "source": [
        "from google.colab import files\n",
        "files.download(\"browser_manager_script.py\")"
      ],
      "metadata": {
        "id": "woG65yIszlPB"
      },
      "execution_count": null,
      "outputs": []
    }
  ]
}