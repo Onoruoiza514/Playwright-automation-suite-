{
  "nbformat": 4,
  "nbformat_minor": 0,
  "metadata": {
    "colab": {
      "provenance": [],
      "authorship_tag": "ABX9TyPynRAdhvvXLBk3a+G1Q6P0",
      "include_colab_link": true
    },
    "kernelspec": {
      "name": "python3",
      "display_name": "Python 3"
    },
    "language_info": {
      "name": "python"
    }
  },
  "cells": [
    {
      "cell_type": "markdown",
      "metadata": {
        "id": "view-in-github",
        "colab_type": "text"
      },
      "source": [
        "<a href=\"https://colab.research.google.com/github/Onoruoiza514/Playwright-automation-suite-/blob/main/Form_fill_auto_py.ipynb\" target=\"_parent\"><img src=\"https://colab.research.google.com/assets/colab-badge.svg\" alt=\"Open In Colab\"/></a>"
      ]
    },
    {
      "cell_type": "code",
      "execution_count": null,
      "metadata": {
        "colab": {
          "base_uri": "https://localhost:8080/"
        },
        "id": "o3HQaxvOkfkx",
        "outputId": "80257a99-6f36-4129-eef9-fa3ed91fc91b"
      },
      "outputs": [
        {
          "output_type": "stream",
          "name": "stdout",
          "text": [
            "Collecting playwright\n",
            "  Downloading playwright-1.49.1-py3-none-manylinux1_x86_64.whl.metadata (3.5 kB)\n",
            "Requirement already satisfied: greenlet==3.1.1 in /usr/local/lib/python3.10/dist-packages (from playwright) (3.1.1)\n",
            "Collecting pyee==12.0.0 (from playwright)\n",
            "  Downloading pyee-12.0.0-py3-none-any.whl.metadata (2.8 kB)\n",
            "Requirement already satisfied: typing-extensions in /usr/local/lib/python3.10/dist-packages (from pyee==12.0.0->playwright) (4.12.2)\n",
            "Downloading playwright-1.49.1-py3-none-manylinux1_x86_64.whl (44.2 MB)\n",
            "\u001b[2K   \u001b[90m━━━━━━━━━━━━━━━━━━━━━━━━━━━━━━━━━━━━━━━━\u001b[0m \u001b[32m44.2/44.2 MB\u001b[0m \u001b[31m14.3 MB/s\u001b[0m eta \u001b[36m0:00:00\u001b[0m\n",
            "\u001b[?25hDownloading pyee-12.0.0-py3-none-any.whl (14 kB)\n",
            "Installing collected packages: pyee, playwright\n",
            "Successfully installed playwright-1.49.1 pyee-12.0.0\n",
            "Downloading Chromium 131.0.6778.33 (playwright build v1148)\u001b[2m from https://playwright.azureedge.net/builds/chromium/1148/chromium-linux.zip\u001b[22m\n",
            "\u001b[1G161.3 MiB [] 0% 0.0s\u001b[0K\u001b[1G161.3 MiB [] 0% 45.7s\u001b[0K\u001b[1G161.3 MiB [] 0% 29.6s\u001b[0K\u001b[1G161.3 MiB [] 0% 16.9s\u001b[0K\u001b[1G161.3 MiB [] 0% 8.2s\u001b[0K\u001b[1G161.3 MiB [] 1% 5.0s\u001b[0K\u001b[1G161.3 MiB [] 2% 4.1s\u001b[0K\u001b[1G161.3 MiB [] 3% 3.5s\u001b[0K\u001b[1G161.3 MiB [] 4% 3.1s\u001b[0K\u001b[1G161.3 MiB [] 5% 2.7s\u001b[0K\u001b[1G161.3 MiB [] 6% 2.6s\u001b[0K\u001b[1G161.3 MiB [] 6% 2.7s\u001b[0K\u001b[1G161.3 MiB [] 7% 2.6s\u001b[0K\u001b[1G161.3 MiB [] 8% 2.5s\u001b[0K\u001b[1G161.3 MiB [] 9% 2.4s\u001b[0K\u001b[1G161.3 MiB [] 10% 2.4s\u001b[0K\u001b[1G161.3 MiB [] 11% 2.3s\u001b[0K\u001b[1G161.3 MiB [] 12% 2.2s\u001b[0K\u001b[1G161.3 MiB [] 14% 2.0s\u001b[0K\u001b[1G161.3 MiB [] 15% 2.0s\u001b[0K\u001b[1G161.3 MiB [] 16% 1.9s\u001b[0K\u001b[1G161.3 MiB [] 18% 1.8s\u001b[0K\u001b[1G161.3 MiB [] 19% 1.8s\u001b[0K\u001b[1G161.3 MiB [] 20% 1.7s\u001b[0K\u001b[1G161.3 MiB [] 21% 1.6s\u001b[0K\u001b[1G161.3 MiB [] 22% 1.6s\u001b[0K\u001b[1G161.3 MiB [] 23% 1.6s\u001b[0K\u001b[1G161.3 MiB [] 24% 1.6s\u001b[0K\u001b[1G161.3 MiB [] 25% 1.5s\u001b[0K\u001b[1G161.3 MiB [] 26% 1.5s\u001b[0K\u001b[1G161.3 MiB [] 27% 1.5s\u001b[0K\u001b[1G161.3 MiB [] 29% 1.4s\u001b[0K\u001b[1G161.3 MiB [] 29% 1.5s\u001b[0K\u001b[1G161.3 MiB [] 30% 1.4s\u001b[0K\u001b[1G161.3 MiB [] 32% 1.4s\u001b[0K\u001b[1G161.3 MiB [] 33% 1.3s\u001b[0K\u001b[1G161.3 MiB [] 35% 1.3s\u001b[0K\u001b[1G161.3 MiB [] 36% 1.2s\u001b[0K\u001b[1G161.3 MiB [] 37% 1.2s\u001b[0K\u001b[1G161.3 MiB [] 38% 1.1s\u001b[0K\u001b[1G161.3 MiB [] 40% 1.1s\u001b[0K\u001b[1G161.3 MiB [] 41% 1.1s\u001b[0K\u001b[1G161.3 MiB [] 42% 1.1s\u001b[0K\u001b[1G161.3 MiB [] 43% 1.0s\u001b[0K\u001b[1G161.3 MiB [] 44% 1.0s\u001b[0K\u001b[1G161.3 MiB [] 45% 1.0s\u001b[0K\u001b[1G161.3 MiB [] 47% 0.9s\u001b[0K\u001b[1G161.3 MiB [] 48% 0.9s\u001b[0K\u001b[1G161.3 MiB [] 49% 0.9s\u001b[0K\u001b[1G161.3 MiB [] 50% 0.9s\u001b[0K\u001b[1G161.3 MiB [] 52% 0.8s\u001b[0K\u001b[1G161.3 MiB [] 53% 0.8s\u001b[0K\u001b[1G161.3 MiB [] 54% 0.8s\u001b[0K\u001b[1G161.3 MiB [] 56% 0.7s\u001b[0K\u001b[1G161.3 MiB [] 57% 0.7s\u001b[0K\u001b[1G161.3 MiB [] 58% 0.7s\u001b[0K\u001b[1G161.3 MiB [] 60% 0.7s\u001b[0K\u001b[1G161.3 MiB [] 61% 0.6s\u001b[0K\u001b[1G161.3 MiB [] 63% 0.6s\u001b[0K\u001b[1G161.3 MiB [] 64% 0.6s\u001b[0K\u001b[1G161.3 MiB [] 65% 0.6s\u001b[0K\u001b[1G161.3 MiB [] 67% 0.5s\u001b[0K\u001b[1G161.3 MiB [] 68% 0.5s\u001b[0K\u001b[1G161.3 MiB [] 70% 0.5s\u001b[0K\u001b[1G161.3 MiB [] 71% 0.5s\u001b[0K\u001b[1G161.3 MiB [] 71% 0.4s\u001b[0K\u001b[1G161.3 MiB [] 72% 0.4s\u001b[0K\u001b[1G161.3 MiB [] 73% 0.4s\u001b[0K\u001b[1G161.3 MiB [] 74% 0.4s\u001b[0K\u001b[1G161.3 MiB [] 75% 0.4s\u001b[0K\u001b[1G161.3 MiB [] 76% 0.4s\u001b[0K\u001b[1G161.3 MiB [] 77% 0.4s\u001b[0K\u001b[1G161.3 MiB [] 78% 0.3s\u001b[0K\u001b[1G161.3 MiB [] 79% 0.3s\u001b[0K\u001b[1G161.3 MiB [] 80% 0.3s\u001b[0K\u001b[1G161.3 MiB [] 81% 0.3s\u001b[0K\u001b[1G161.3 MiB [] 82% 0.3s\u001b[0K\u001b[1G161.3 MiB [] 83% 0.3s\u001b[0K\u001b[1G161.3 MiB [] 84% 0.3s\u001b[0K\u001b[1G161.3 MiB [] 85% 0.2s\u001b[0K\u001b[1G161.3 MiB [] 87% 0.2s\u001b[0K\u001b[1G161.3 MiB [] 88% 0.2s\u001b[0K\u001b[1G161.3 MiB [] 89% 0.2s\u001b[0K\u001b[1G161.3 MiB [] 91% 0.1s\u001b[0K\u001b[1G161.3 MiB [] 92% 0.1s\u001b[0K\u001b[1G161.3 MiB [] 93% 0.1s\u001b[0K\u001b[1G161.3 MiB [] 94% 0.1s\u001b[0K\u001b[1G161.3 MiB [] 95% 0.1s\u001b[0K\u001b[1G161.3 MiB [] 97% 0.0s\u001b[0K\u001b[1G161.3 MiB [] 98% 0.0s\u001b[0K\u001b[1G161.3 MiB [] 100% 0.0s\u001b[0K\n",
            "Chromium 131.0.6778.33 (playwright build v1148) downloaded to /root/.cache/ms-playwright/chromium-1148\n",
            "Downloading Chromium Headless Shell 131.0.6778.33 (playwright build v1148)\u001b[2m from https://playwright.azureedge.net/builds/chromium/1148/chromium-headless-shell-linux.zip\u001b[22m\n",
            "\u001b[1G100.9 MiB [] 0% 0.0s\u001b[0K\u001b[1G100.9 MiB [] 0% 24.7s\u001b[0K\u001b[1G100.9 MiB [] 0% 13.3s\u001b[0K\u001b[1G100.9 MiB [] 0% 7.7s\u001b[0K\u001b[1G100.9 MiB [] 1% 4.0s\u001b[0K\u001b[1G100.9 MiB [] 2% 2.9s\u001b[0K\u001b[1G100.9 MiB [] 4% 2.3s\u001b[0K\u001b[1G100.9 MiB [] 5% 2.0s\u001b[0K\u001b[1G100.9 MiB [] 7% 1.7s\u001b[0K\u001b[1G100.9 MiB [] 8% 1.6s\u001b[0K\u001b[1G100.9 MiB [] 9% 1.5s\u001b[0K\u001b[1G100.9 MiB [] 10% 1.6s\u001b[0K\u001b[1G100.9 MiB [] 11% 1.5s\u001b[0K\u001b[1G100.9 MiB [] 12% 1.6s\u001b[0K\u001b[1G100.9 MiB [] 13% 1.5s\u001b[0K\u001b[1G100.9 MiB [] 14% 1.6s\u001b[0K\u001b[1G100.9 MiB [] 15% 1.6s\u001b[0K\u001b[1G100.9 MiB [] 17% 1.4s\u001b[0K\u001b[1G100.9 MiB [] 19% 1.3s\u001b[0K\u001b[1G100.9 MiB [] 21% 1.2s\u001b[0K\u001b[1G100.9 MiB [] 23% 1.2s\u001b[0K\u001b[1G100.9 MiB [] 25% 1.1s\u001b[0K\u001b[1G100.9 MiB [] 27% 1.1s\u001b[0K\u001b[1G100.9 MiB [] 28% 1.0s\u001b[0K\u001b[1G100.9 MiB [] 30% 1.0s\u001b[0K\u001b[1G100.9 MiB [] 32% 0.9s\u001b[0K\u001b[1G100.9 MiB [] 33% 0.9s\u001b[0K\u001b[1G100.9 MiB [] 34% 0.9s\u001b[0K\u001b[1G100.9 MiB [] 36% 0.9s\u001b[0K\u001b[1G100.9 MiB [] 37% 0.9s\u001b[0K\u001b[1G100.9 MiB [] 39% 0.9s\u001b[0K\u001b[1G100.9 MiB [] 40% 0.8s\u001b[0K\u001b[1G100.9 MiB [] 41% 0.8s\u001b[0K\u001b[1G100.9 MiB [] 43% 0.8s\u001b[0K\u001b[1G100.9 MiB [] 44% 0.8s\u001b[0K\u001b[1G100.9 MiB [] 45% 0.8s\u001b[0K\u001b[1G100.9 MiB [] 46% 0.8s\u001b[0K\u001b[1G100.9 MiB [] 46% 0.9s\u001b[0K\u001b[1G100.9 MiB [] 47% 0.9s\u001b[0K\u001b[1G100.9 MiB [] 48% 0.8s\u001b[0K\u001b[1G100.9 MiB [] 49% 0.8s\u001b[0K\u001b[1G100.9 MiB [] 51% 0.8s\u001b[0K\u001b[1G100.9 MiB [] 53% 0.8s\u001b[0K\u001b[1G100.9 MiB [] 54% 0.7s\u001b[0K\u001b[1G100.9 MiB [] 55% 0.7s\u001b[0K\u001b[1G100.9 MiB [] 56% 0.7s\u001b[0K\u001b[1G100.9 MiB [] 58% 0.7s\u001b[0K\u001b[1G100.9 MiB [] 59% 0.7s\u001b[0K\u001b[1G100.9 MiB [] 60% 0.7s\u001b[0K\u001b[1G100.9 MiB [] 62% 0.7s\u001b[0K\u001b[1G100.9 MiB [] 63% 0.7s\u001b[0K\u001b[1G100.9 MiB [] 64% 0.6s\u001b[0K\u001b[1G100.9 MiB [] 65% 0.6s\u001b[0K\u001b[1G100.9 MiB [] 66% 0.6s\u001b[0K\u001b[1G100.9 MiB [] 68% 0.6s\u001b[0K\u001b[1G100.9 MiB [] 69% 0.5s\u001b[0K\u001b[1G100.9 MiB [] 70% 0.5s\u001b[0K\u001b[1G100.9 MiB [] 71% 0.5s\u001b[0K\u001b[1G100.9 MiB [] 72% 0.5s\u001b[0K\u001b[1G100.9 MiB [] 73% 0.5s\u001b[0K\u001b[1G100.9 MiB [] 74% 0.5s\u001b[0K\u001b[1G100.9 MiB [] 75% 0.5s\u001b[0K\u001b[1G100.9 MiB [] 75% 0.4s\u001b[0K\u001b[1G100.9 MiB [] 76% 0.4s\u001b[0K\u001b[1G100.9 MiB [] 77% 0.4s\u001b[0K\u001b[1G100.9 MiB [] 78% 0.4s\u001b[0K\u001b[1G100.9 MiB [] 79% 0.4s\u001b[0K\u001b[1G100.9 MiB [] 80% 0.3s\u001b[0K\u001b[1G100.9 MiB [] 81% 0.3s\u001b[0K\u001b[1G100.9 MiB [] 83% 0.3s\u001b[0K\u001b[1G100.9 MiB [] 84% 0.3s\u001b[0K\u001b[1G100.9 MiB [] 85% 0.3s\u001b[0K\u001b[1G100.9 MiB [] 86% 0.2s\u001b[0K\u001b[1G100.9 MiB [] 88% 0.2s\u001b[0K\u001b[1G100.9 MiB [] 89% 0.2s\u001b[0K\u001b[1G100.9 MiB [] 90% 0.2s\u001b[0K\u001b[1G100.9 MiB [] 91% 0.2s\u001b[0K\u001b[1G100.9 MiB [] 92% 0.1s\u001b[0K\u001b[1G100.9 MiB [] 93% 0.1s\u001b[0K\u001b[1G100.9 MiB [] 94% 0.1s\u001b[0K\u001b[1G100.9 MiB [] 95% 0.1s\u001b[0K\u001b[1G100.9 MiB [] 97% 0.1s\u001b[0K\u001b[1G100.9 MiB [] 98% 0.0s\u001b[0K\u001b[1G100.9 MiB [] 99% 0.0s\u001b[0K\u001b[1G100.9 MiB [] 100% 0.0s\u001b[0K\n",
            "Chromium Headless Shell 131.0.6778.33 (playwright build v1148) downloaded to /root/.cache/ms-playwright/chromium_headless_shell-1148\n",
            "Downloading Firefox 132.0 (playwright build v1466)\u001b[2m from https://playwright.azureedge.net/builds/firefox/1466/firefox-ubuntu-22.04.zip\u001b[22m\n",
            "\u001b[1G87.6 MiB [] 0% 0.0s\u001b[0K\u001b[1G87.6 MiB [] 0% 21.4s\u001b[0K\u001b[1G87.6 MiB [] 0% 14.0s\u001b[0K\u001b[1G87.6 MiB [] 0% 8.4s\u001b[0K\u001b[1G87.6 MiB [] 1% 4.6s\u001b[0K\u001b[1G87.6 MiB [] 2% 3.3s\u001b[0K\u001b[1G87.6 MiB [] 3% 2.7s\u001b[0K\u001b[1G87.6 MiB [] 4% 2.4s\u001b[0K\u001b[1G87.6 MiB [] 5% 2.2s\u001b[0K\u001b[1G87.6 MiB [] 6% 2.1s\u001b[0K\u001b[1G87.6 MiB [] 7% 1.9s\u001b[0K\u001b[1G87.6 MiB [] 9% 1.8s\u001b[0K\u001b[1G87.6 MiB [] 10% 1.7s\u001b[0K\u001b[1G87.6 MiB [] 11% 1.7s\u001b[0K\u001b[1G87.6 MiB [] 12% 1.6s\u001b[0K\u001b[1G87.6 MiB [] 12% 1.8s\u001b[0K\u001b[1G87.6 MiB [] 13% 1.8s\u001b[0K\u001b[1G87.6 MiB [] 14% 1.8s\u001b[0K\u001b[1G87.6 MiB [] 15% 1.7s\u001b[0K\u001b[1G87.6 MiB [] 17% 1.6s\u001b[0K\u001b[1G87.6 MiB [] 19% 1.5s\u001b[0K\u001b[1G87.6 MiB [] 19% 1.6s\u001b[0K\u001b[1G87.6 MiB [] 21% 1.4s\u001b[0K\u001b[1G87.6 MiB [] 24% 1.3s\u001b[0K\u001b[1G87.6 MiB [] 26% 1.2s\u001b[0K\u001b[1G87.6 MiB [] 26% 1.3s\u001b[0K\u001b[1G87.6 MiB [] 28% 1.2s\u001b[0K\u001b[1G87.6 MiB [] 30% 1.1s\u001b[0K\u001b[1G87.6 MiB [] 32% 1.1s\u001b[0K\u001b[1G87.6 MiB [] 33% 1.0s\u001b[0K\u001b[1G87.6 MiB [] 34% 1.0s\u001b[0K\u001b[1G87.6 MiB [] 36% 1.0s\u001b[0K\u001b[1G87.6 MiB [] 38% 0.9s\u001b[0K\u001b[1G87.6 MiB [] 39% 0.9s\u001b[0K\u001b[1G87.6 MiB [] 41% 0.9s\u001b[0K\u001b[1G87.6 MiB [] 42% 0.9s\u001b[0K\u001b[1G87.6 MiB [] 43% 0.9s\u001b[0K\u001b[1G87.6 MiB [] 43% 0.8s\u001b[0K\u001b[1G87.6 MiB [] 45% 0.8s\u001b[0K\u001b[1G87.6 MiB [] 46% 0.8s\u001b[0K\u001b[1G87.6 MiB [] 48% 0.7s\u001b[0K\u001b[1G87.6 MiB [] 50% 0.7s\u001b[0K\u001b[1G87.6 MiB [] 51% 0.7s\u001b[0K\u001b[1G87.6 MiB [] 52% 0.7s\u001b[0K\u001b[1G87.6 MiB [] 53% 0.7s\u001b[0K\u001b[1G87.6 MiB [] 54% 0.7s\u001b[0K\u001b[1G87.6 MiB [] 56% 0.6s\u001b[0K\u001b[1G87.6 MiB [] 59% 0.6s\u001b[0K\u001b[1G87.6 MiB [] 61% 0.5s\u001b[0K\u001b[1G87.6 MiB [] 63% 0.5s\u001b[0K\u001b[1G87.6 MiB [] 66% 0.4s\u001b[0K\u001b[1G87.6 MiB [] 68% 0.4s\u001b[0K\u001b[1G87.6 MiB [] 71% 0.4s\u001b[0K\u001b[1G87.6 MiB [] 74% 0.3s\u001b[0K\u001b[1G87.6 MiB [] 76% 0.3s\u001b[0K\u001b[1G87.6 MiB [] 79% 0.3s\u001b[0K\u001b[1G87.6 MiB [] 81% 0.2s\u001b[0K\u001b[1G87.6 MiB [] 83% 0.2s\u001b[0K\u001b[1G87.6 MiB [] 85% 0.2s\u001b[0K\u001b[1G87.6 MiB [] 88% 0.1s\u001b[0K\u001b[1G87.6 MiB [] 90% 0.1s\u001b[0K\u001b[1G87.6 MiB [] 93% 0.1s\u001b[0K\u001b[1G87.6 MiB [] 94% 0.1s\u001b[0K\u001b[1G87.6 MiB [] 96% 0.0s\u001b[0K\u001b[1G87.6 MiB [] 98% 0.0s\u001b[0K\u001b[1G87.6 MiB [] 100% 0.0s\u001b[0K\n",
            "Firefox 132.0 (playwright build v1466) downloaded to /root/.cache/ms-playwright/firefox-1466\n",
            "Downloading Webkit 18.2 (playwright build v2104)\u001b[2m from https://playwright.azureedge.net/builds/webkit/2104/webkit-ubuntu-22.04.zip\u001b[22m\n",
            "\u001b[1G95.5 MiB [] 0% 0.0s\u001b[0K\u001b[1G95.5 MiB [] 0% 19.4s\u001b[0K\u001b[1G95.5 MiB [] 0% 14.3s\u001b[0K\u001b[1G95.5 MiB [] 0% 9.0s\u001b[0K\u001b[1G95.5 MiB [] 1% 4.4s\u001b[0K\u001b[1G95.5 MiB [] 2% 3.1s\u001b[0K\u001b[1G95.5 MiB [] 3% 2.5s\u001b[0K\u001b[1G95.5 MiB [] 5% 2.1s\u001b[0K\u001b[1G95.5 MiB [] 6% 1.8s\u001b[0K\u001b[1G95.5 MiB [] 8% 1.6s\u001b[0K\u001b[1G95.5 MiB [] 10% 1.4s\u001b[0K\u001b[1G95.5 MiB [] 11% 1.4s\u001b[0K\u001b[1G95.5 MiB [] 12% 1.4s\u001b[0K\u001b[1G95.5 MiB [] 13% 1.4s\u001b[0K\u001b[1G95.5 MiB [] 15% 1.3s\u001b[0K\u001b[1G95.5 MiB [] 16% 1.2s\u001b[0K\u001b[1G95.5 MiB [] 18% 1.2s\u001b[0K\u001b[1G95.5 MiB [] 19% 1.2s\u001b[0K\u001b[1G95.5 MiB [] 21% 1.1s\u001b[0K\u001b[1G95.5 MiB [] 23% 1.0s\u001b[0K\u001b[1G95.5 MiB [] 24% 1.0s\u001b[0K\u001b[1G95.5 MiB [] 26% 1.0s\u001b[0K\u001b[1G95.5 MiB [] 28% 0.9s\u001b[0K\u001b[1G95.5 MiB [] 30% 0.9s\u001b[0K\u001b[1G95.5 MiB [] 32% 0.8s\u001b[0K\u001b[1G95.5 MiB [] 34% 0.8s\u001b[0K\u001b[1G95.5 MiB [] 36% 0.7s\u001b[0K\u001b[1G95.5 MiB [] 39% 0.7s\u001b[0K\u001b[1G95.5 MiB [] 43% 0.6s\u001b[0K\u001b[1G95.5 MiB [] 45% 0.6s\u001b[0K\u001b[1G95.5 MiB [] 47% 0.6s\u001b[0K\u001b[1G95.5 MiB [] 49% 0.5s\u001b[0K\u001b[1G95.5 MiB [] 50% 0.5s\u001b[0K\u001b[1G95.5 MiB [] 51% 0.5s\u001b[0K\u001b[1G95.5 MiB [] 53% 0.5s\u001b[0K\u001b[1G95.5 MiB [] 55% 0.5s\u001b[0K\u001b[1G95.5 MiB [] 58% 0.4s\u001b[0K\u001b[1G95.5 MiB [] 61% 0.4s\u001b[0K\u001b[1G95.5 MiB [] 63% 0.4s\u001b[0K\u001b[1G95.5 MiB [] 65% 0.4s\u001b[0K\u001b[1G95.5 MiB [] 66% 0.3s\u001b[0K\u001b[1G95.5 MiB [] 68% 0.3s\u001b[0K\u001b[1G95.5 MiB [] 70% 0.3s\u001b[0K\u001b[1G95.5 MiB [] 71% 0.3s\u001b[0K\u001b[1G95.5 MiB [] 73% 0.3s\u001b[0K\u001b[1G95.5 MiB [] 74% 0.3s\u001b[0K\u001b[1G95.5 MiB [] 76% 0.2s\u001b[0K\u001b[1G95.5 MiB [] 77% 0.2s\u001b[0K\u001b[1G95.5 MiB [] 78% 0.2s\u001b[0K\u001b[1G95.5 MiB [] 79% 0.2s\u001b[0K\u001b[1G95.5 MiB [] 80% 0.2s\u001b[0K\u001b[1G95.5 MiB [] 81% 0.2s\u001b[0K\u001b[1G95.5 MiB [] 82% 0.2s\u001b[0K\u001b[1G95.5 MiB [] 83% 0.2s\u001b[0K\u001b[1G95.5 MiB [] 85% 0.2s\u001b[0K\u001b[1G95.5 MiB [] 87% 0.1s\u001b[0K\u001b[1G95.5 MiB [] 89% 0.1s\u001b[0K\u001b[1G95.5 MiB [] 91% 0.1s\u001b[0K\u001b[1G95.5 MiB [] 93% 0.1s\u001b[0K\u001b[1G95.5 MiB [] 95% 0.0s\u001b[0K\u001b[1G95.5 MiB [] 97% 0.0s\u001b[0K\u001b[1G95.5 MiB [] 99% 0.0s\u001b[0K\u001b[1G95.5 MiB [] 100% 0.0s\u001b[0K\n",
            "Webkit 18.2 (playwright build v2104) downloaded to /root/.cache/ms-playwright/webkit-2104\n",
            "Downloading FFMPEG playwright build v1010\u001b[2m from https://playwright.azureedge.net/builds/ffmpeg/1010/ffmpeg-linux.zip\u001b[22m\n",
            "\u001b[1G2.3 MiB [] 0% 0.0s\u001b[0K\u001b[1G2.3 MiB [] 3% 0.6s\u001b[0K\u001b[1G2.3 MiB [] 9% 0.3s\u001b[0K\u001b[1G2.3 MiB [] 20% 0.2s\u001b[0K\u001b[1G2.3 MiB [] 34% 0.1s\u001b[0K\u001b[1G2.3 MiB [] 78% 0.0s\u001b[0K\u001b[1G2.3 MiB [] 100% 0.0s\u001b[0K\n",
            "FFMPEG playwright build v1010 downloaded to /root/.cache/ms-playwright/ffmpeg-1010\n",
            "Playwright Host validation warning: \n",
            "╔══════════════════════════════════════════════════════╗\n",
            "║ Host system is missing dependencies to run browsers. ║\n",
            "║ Missing libraries:                                   ║\n",
            "║     libwoff2dec.so.1.0.2                             ║\n",
            "║     libgstgl-1.0.so.0                                ║\n",
            "║     libgstcodecparsers-1.0.so.0                      ║\n",
            "║     libavif.so.13                                    ║\n",
            "║     libharfbuzz-icu.so.0                             ║\n",
            "║     libenchant-2.so.2                                ║\n",
            "║     libsecret-1.so.0                                 ║\n",
            "║     libhyphen.so.0                                   ║\n",
            "║     libmanette-0.2.so.0                              ║\n",
            "╚══════════════════════════════════════════════════════╝\n",
            "    at validateDependenciesLinux (/usr/local/lib/python3.10/dist-packages/playwright/driver/package/lib/server/registry/dependencies.js:216:9)\n",
            "\u001b[90m    at process.processTicksAndRejections (node:internal/process/task_queues:105:5)\u001b[39m\n",
            "    at async Registry._validateHostRequirements (/usr/local/lib/python3.10/dist-packages/playwright/driver/package/lib/server/registry/index.js:753:43)\n",
            "    at async Registry._validateHostRequirementsForExecutableIfNeeded (/usr/local/lib/python3.10/dist-packages/playwright/driver/package/lib/server/registry/index.js:851:7)\n",
            "    at async Registry.validateHostRequirementsForExecutablesIfNeeded (/usr/local/lib/python3.10/dist-packages/playwright/driver/package/lib/server/registry/index.js:840:43)\n",
            "    at async t.<anonymous> (/usr/local/lib/python3.10/dist-packages/playwright/driver/package/lib/cli/program.js:137:7)\n"
          ]
        }
      ],
      "source": [
        "#We install dependencies\n",
        "!pip install playwright\n",
        "from playwright.async_api import async_playwright\n",
        "import asyncio\n",
        "# Install Playwright\n",
        "#!pip install playwright\n",
        "\n",
        "# Install the required browsers\n",
        "!python3 -m playwright install"
      ]
    },
    {
      "cell_type": "code",
      "source": [
        "async def fill_form(page, label, value):\n",
        "    \"\"\"Fills a form field based on its label.\"\"\"\n",
        "    field = page.get_by_label(label)\n",
        "    await field.fill(value)\n",
        "\n",
        "\n",
        "#Amother function\n",
        "async def implement():\n",
        "    \"\"\"Implements the form filling process\"\"\"\n",
        "    url = \"https://docs.google.com/forms/d/e/1FAIpQLScV0DvomCjJGqGo6bJvAlcJiYp5GYFxjLojszsszUmxdkTmew/viewform?usp=dialog\"\n",
        "\n",
        "    async with async_playwright() as p:  # Properly use async context management\n",
        "        browser = await p.chromium.launch(headless=True, slow_mo=200)\n",
        "        page = await browser.new_page() # Properly use async context management\n",
        "        # Navigate to the form page\n",
        "        await page.goto(url)\n",
        "\n",
        "\n",
        "        # Fill the form fields\n",
        "        await fill_form(page, \"FirstName\", \"Abdulfaatihi\")\n",
        "        await fill_form(page, \"LastName\", \"Onoruoiza\")\n",
        "        await fill_form(page, \"PhoneNumber\", \"08077235670\")\n",
        "        await fill_form(page, \"Email\", \"abdulonoruoiza410@gmail.com\")\n",
        "        await fill_form(page, \"HomeAddress\", \"House number 66B, Zone 9, Lugbe, Airport Road, Abuja\")\n",
        "        await fill_form(page, \"FeedbackMessage\", \"Blah blah blah blah\")\n",
        "\n",
        "        # Submit the form\n",
        "        submit_button = page.get_by_role(\"button\", name=\"submit\")\n",
        "        await submit_button.click()\n",
        "        print(f\"Form to {url} submitted successfull!\")\n",
        "\n",
        "        await browser.close()\n",
        "        await page.close()\n",
        "        print(\"Everything done and closed men\")\n",
        "\n",
        "if __name__ == \"__main__\":\n",
        "    await implement()\n"
      ],
      "metadata": {
        "id": "JbxLB28RlBee",
        "colab": {
          "base_uri": "https://localhost:8080/"
        },
        "outputId": "d76dcf55-5b88-4e42-cfb3-66d5341f13e6"
      },
      "execution_count": 29,
      "outputs": [
        {
          "output_type": "stream",
          "name": "stderr",
          "text": [
            "/usr/local/lib/python3.10/dist-packages/pyee/base.py:186: RuntimeWarning: coroutine 'main' was never awaited\n",
            "  funcs = list(self._events.get(event, OrderedDict()).values())\n",
            "RuntimeWarning: Enable tracemalloc to get the object allocation traceback\n"
          ]
        },
        {
          "output_type": "stream",
          "name": "stdout",
          "text": [
            "Form to https://docs.google.com/forms/d/e/1FAIpQLScV0DvomCjJGqGo6bJvAlcJiYp5GYFxjLojszsszUmxdkTmew/viewform?usp=dialog submitted successfull!\n",
            "Everything done and closed men\n"
          ]
        }
      ]
    }
  ]
}